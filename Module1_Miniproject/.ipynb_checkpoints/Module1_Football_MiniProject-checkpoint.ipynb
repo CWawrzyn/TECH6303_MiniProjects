{
 "cells": [
  {
   "cell_type": "markdown",
   "id": "315b288b",
   "metadata": {},
   "source": [
    "# Description\n",
    "Football is one of the most popular sports in the world. Currently, the hype for the matches cannot be understated, and skilled players have gone beyond celebrity status! In this mini project, you will look at data collected about matches from 1872 to 2019.\n",
    "\n",
    "Expected Output\n",
    "\n",
    "\n",
    "The count of the tuples in the given dataset.\n",
    "\n",
    "The count of the names of unique tournament names from the attributes.\n",
    "\n",
    "The count of matches in 2018 from the attributes.\n",
    "\n",
    "The count of wins, losses, or draws given in the data columns.\n",
    "\n",
    "An output plot of the pie chart of the wins, losses, or draws.\n",
    "\n",
    "An output plot of the pie chart of the neutral column in the input dataset.\n",
    "\n",
    "The count of the names of unique team names from the attributes.\n",
    "\n",
    "You are expected to write around 30 lines of code to complete this project\n",
    "\n",
    "\n",
    "\n",
    "\n",
    "date - date of the match home_team - the name of the home team away_team - the name of the away team home_score - full-time home team score including extra time, not including penalty-shootouts away_score - full-time away team score including extra time, not including penalty-shootouts tournament - the name of the tournament city - the name of the city/town/administrative unit where the match was played country - the name of the country where the match was played neutral - TRUE/FALSE column indicating whether the match was played at a neutral venue\n",
    "\n",
    "Note on team and country names:\n",
    "\n",
    "For home and away teams the current name of the team has been used. For example, when in 1882 a team who called themselves Ireland played against England, in this dataset, it is called Northern Ireland because the current team of Northern Ireland is the successor of the 1882 Ireland team. This is done so it is easier to track the history and statistics of teams.\n",
    "For country names, the name of the country at the time of the match is used. So when Ghana played in Accra, Gold Coast in the 1950s, even though the names of the home team and the country don't match, it was a home match for Ghana. This is indicated by the neutral column, which says FALSE for those matches, meaning it was not at a neutral venue."
   ]
  },
  {
   "cell_type": "code",
   "execution_count": 1,
   "id": "b3104cbd",
   "metadata": {},
   "outputs": [],
   "source": [
    "import pandas as pd\n",
    "df=pd.read_csv('results.csv')"
   ]
  },
  {
   "cell_type": "code",
   "execution_count": 2,
   "id": "feb6fea0",
   "metadata": {},
   "outputs": [
    {
     "data": {
      "text/plain": [
       "42650"
      ]
     },
     "execution_count": 2,
     "metadata": {},
     "output_type": "execute_result"
    }
   ],
   "source": [
    "#The count of the tuples in the given dataset.\n",
    "len(df)"
   ]
  },
  {
   "cell_type": "code",
   "execution_count": 3,
   "id": "c37ca2c9",
   "metadata": {},
   "outputs": [
    {
     "data": {
      "text/html": [
       "<div>\n",
       "<style scoped>\n",
       "    .dataframe tbody tr th:only-of-type {\n",
       "        vertical-align: middle;\n",
       "    }\n",
       "\n",
       "    .dataframe tbody tr th {\n",
       "        vertical-align: top;\n",
       "    }\n",
       "\n",
       "    .dataframe thead th {\n",
       "        text-align: right;\n",
       "    }\n",
       "</style>\n",
       "<table border=\"1\" class=\"dataframe\">\n",
       "  <thead>\n",
       "    <tr style=\"text-align: right;\">\n",
       "      <th></th>\n",
       "      <th>date</th>\n",
       "      <th>home_team</th>\n",
       "      <th>away_team</th>\n",
       "      <th>home_score</th>\n",
       "      <th>away_score</th>\n",
       "      <th>tournament</th>\n",
       "      <th>city</th>\n",
       "      <th>country</th>\n",
       "      <th>neutral</th>\n",
       "    </tr>\n",
       "  </thead>\n",
       "  <tbody>\n",
       "    <tr>\n",
       "      <th>0</th>\n",
       "      <td>1872-11-30</td>\n",
       "      <td>Scotland</td>\n",
       "      <td>England</td>\n",
       "      <td>0</td>\n",
       "      <td>0</td>\n",
       "      <td>Friendly</td>\n",
       "      <td>Glasgow</td>\n",
       "      <td>Scotland</td>\n",
       "      <td>False</td>\n",
       "    </tr>\n",
       "    <tr>\n",
       "      <th>1</th>\n",
       "      <td>1873-03-08</td>\n",
       "      <td>England</td>\n",
       "      <td>Scotland</td>\n",
       "      <td>4</td>\n",
       "      <td>2</td>\n",
       "      <td>Friendly</td>\n",
       "      <td>London</td>\n",
       "      <td>England</td>\n",
       "      <td>False</td>\n",
       "    </tr>\n",
       "    <tr>\n",
       "      <th>2</th>\n",
       "      <td>1874-03-07</td>\n",
       "      <td>Scotland</td>\n",
       "      <td>England</td>\n",
       "      <td>2</td>\n",
       "      <td>1</td>\n",
       "      <td>Friendly</td>\n",
       "      <td>Glasgow</td>\n",
       "      <td>Scotland</td>\n",
       "      <td>False</td>\n",
       "    </tr>\n",
       "    <tr>\n",
       "      <th>3</th>\n",
       "      <td>1875-03-06</td>\n",
       "      <td>England</td>\n",
       "      <td>Scotland</td>\n",
       "      <td>2</td>\n",
       "      <td>2</td>\n",
       "      <td>Friendly</td>\n",
       "      <td>London</td>\n",
       "      <td>England</td>\n",
       "      <td>False</td>\n",
       "    </tr>\n",
       "    <tr>\n",
       "      <th>4</th>\n",
       "      <td>1876-03-04</td>\n",
       "      <td>Scotland</td>\n",
       "      <td>England</td>\n",
       "      <td>3</td>\n",
       "      <td>0</td>\n",
       "      <td>Friendly</td>\n",
       "      <td>Glasgow</td>\n",
       "      <td>Scotland</td>\n",
       "      <td>False</td>\n",
       "    </tr>\n",
       "  </tbody>\n",
       "</table>\n",
       "</div>"
      ],
      "text/plain": [
       "         date home_team away_team  home_score  away_score tournament     city  \\\n",
       "0  1872-11-30  Scotland   England           0           0   Friendly  Glasgow   \n",
       "1  1873-03-08   England  Scotland           4           2   Friendly   London   \n",
       "2  1874-03-07  Scotland   England           2           1   Friendly  Glasgow   \n",
       "3  1875-03-06   England  Scotland           2           2   Friendly   London   \n",
       "4  1876-03-04  Scotland   England           3           0   Friendly  Glasgow   \n",
       "\n",
       "    country  neutral  \n",
       "0  Scotland    False  \n",
       "1   England    False  \n",
       "2  Scotland    False  \n",
       "3   England    False  \n",
       "4  Scotland    False  "
      ]
     },
     "execution_count": 3,
     "metadata": {},
     "output_type": "execute_result"
    }
   ],
   "source": [
    "df.head(5)"
   ]
  },
  {
   "cell_type": "code",
   "execution_count": null,
   "id": "246d9131",
   "metadata": {},
   "outputs": [],
   "source": []
  },
  {
   "cell_type": "code",
   "execution_count": 4,
   "id": "6f070b60",
   "metadata": {},
   "outputs": [
    {
     "data": {
      "text/plain": [
       "120"
      ]
     },
     "execution_count": 4,
     "metadata": {},
     "output_type": "execute_result"
    }
   ],
   "source": [
    "#The count of the names of unique tournament names from the attributes.\n",
    "len(df.tournament.unique())"
   ]
  },
  {
   "cell_type": "code",
   "execution_count": 5,
   "id": "65e013e9",
   "metadata": {},
   "outputs": [
    {
     "data": {
      "text/plain": [
       "0        1872\n",
       "1        1873\n",
       "2        1874\n",
       "3        1875\n",
       "4        1876\n",
       "         ... \n",
       "42645    2021\n",
       "42646    2021\n",
       "42647    2021\n",
       "42648    2021\n",
       "42649    2021\n",
       "Name: year, Length: 42650, dtype: int64"
      ]
     },
     "execution_count": 5,
     "metadata": {},
     "output_type": "execute_result"
    }
   ],
   "source": [
    "#The count of matches in 2018 from the attributes.\n",
    "\n",
    "df['year'] = pd.DatetimeIndex(df['date']).year\n",
    "df['year'] "
   ]
  },
  {
   "cell_type": "code",
   "execution_count": 6,
   "id": "a7dc2129",
   "metadata": {},
   "outputs": [
    {
     "data": {
      "text/html": [
       "<div>\n",
       "<style scoped>\n",
       "    .dataframe tbody tr th:only-of-type {\n",
       "        vertical-align: middle;\n",
       "    }\n",
       "\n",
       "    .dataframe tbody tr th {\n",
       "        vertical-align: top;\n",
       "    }\n",
       "\n",
       "    .dataframe thead th {\n",
       "        text-align: right;\n",
       "    }\n",
       "</style>\n",
       "<table border=\"1\" class=\"dataframe\">\n",
       "  <thead>\n",
       "    <tr style=\"text-align: right;\">\n",
       "      <th></th>\n",
       "      <th>date</th>\n",
       "      <th>home_team</th>\n",
       "      <th>away_team</th>\n",
       "      <th>home_score</th>\n",
       "      <th>away_score</th>\n",
       "      <th>tournament</th>\n",
       "      <th>city</th>\n",
       "      <th>country</th>\n",
       "      <th>neutral</th>\n",
       "      <th>year</th>\n",
       "    </tr>\n",
       "    <tr>\n",
       "      <th>year</th>\n",
       "      <th></th>\n",
       "      <th></th>\n",
       "      <th></th>\n",
       "      <th></th>\n",
       "      <th></th>\n",
       "      <th></th>\n",
       "      <th></th>\n",
       "      <th></th>\n",
       "      <th></th>\n",
       "      <th></th>\n",
       "    </tr>\n",
       "  </thead>\n",
       "  <tbody>\n",
       "    <tr>\n",
       "      <th>False</th>\n",
       "      <td>41742</td>\n",
       "      <td>41742</td>\n",
       "      <td>41742</td>\n",
       "      <td>41742</td>\n",
       "      <td>41742</td>\n",
       "      <td>41742</td>\n",
       "      <td>41742</td>\n",
       "      <td>41742</td>\n",
       "      <td>41742</td>\n",
       "      <td>41742</td>\n",
       "    </tr>\n",
       "    <tr>\n",
       "      <th>True</th>\n",
       "      <td>908</td>\n",
       "      <td>908</td>\n",
       "      <td>908</td>\n",
       "      <td>908</td>\n",
       "      <td>908</td>\n",
       "      <td>908</td>\n",
       "      <td>908</td>\n",
       "      <td>908</td>\n",
       "      <td>908</td>\n",
       "      <td>908</td>\n",
       "    </tr>\n",
       "  </tbody>\n",
       "</table>\n",
       "</div>"
      ],
      "text/plain": [
       "        date  home_team  away_team  home_score  away_score  tournament   city  \\\n",
       "year                                                                            \n",
       "False  41742      41742      41742       41742       41742       41742  41742   \n",
       "True     908        908        908         908         908         908    908   \n",
       "\n",
       "       country  neutral   year  \n",
       "year                            \n",
       "False    41742    41742  41742  \n",
       "True       908      908    908  "
      ]
     },
     "execution_count": 6,
     "metadata": {},
     "output_type": "execute_result"
    }
   ],
   "source": [
    "df.groupby(df['year']==2018).count()"
   ]
  },
  {
   "cell_type": "code",
   "execution_count": 7,
   "id": "99277f17",
   "metadata": {},
   "outputs": [
    {
     "data": {
      "text/plain": [
       "False    21911\n",
       "True     20739\n",
       "dtype: int64"
      ]
     },
     "execution_count": 7,
     "metadata": {},
     "output_type": "execute_result"
    }
   ],
   "source": [
    "# The count of wins, losses, or draws given in the data columns.\n",
    "# Calculate how many times the home team won, lost, or had a draw.\n",
    "\n",
    "wins=df.home_score>df.away_score\n",
    "wins.value_counts()"
   ]
  },
  {
   "cell_type": "code",
   "execution_count": 8,
   "id": "a6d697ae",
   "metadata": {},
   "outputs": [
    {
     "data": {
      "text/plain": [
       "False    30576\n",
       "True     12074\n",
       "dtype: int64"
      ]
     },
     "execution_count": 8,
     "metadata": {},
     "output_type": "execute_result"
    }
   ],
   "source": [
    "losses=df.home_score<df.away_score\n",
    "losses.value_counts()\n"
   ]
  },
  {
   "cell_type": "code",
   "execution_count": 9,
   "id": "e12bd053",
   "metadata": {},
   "outputs": [
    {
     "data": {
      "text/plain": [
       "False    32813\n",
       "True      9837\n",
       "dtype: int64"
      ]
     },
     "execution_count": 9,
     "metadata": {},
     "output_type": "execute_result"
    }
   ],
   "source": [
    "draws=df.home_score==df.away_score\n",
    "draws.value_counts()"
   ]
  },
  {
   "cell_type": "code",
   "execution_count": 10,
   "id": "362c567f",
   "metadata": {},
   "outputs": [
    {
     "data": {
      "text/plain": [
       "array([20739, 12074,  9837], dtype=int64)"
      ]
     },
     "execution_count": 10,
     "metadata": {},
     "output_type": "execute_result"
    }
   ],
   "source": [
    "#An output plot of the pie chart of the wins, losses, or draws.\n",
    "import matplotlib.pyplot as plt\n",
    "import numpy as np\n",
    "\n",
    "scores=np.array([wins.value_counts()[1], losses.value_counts()[1], draws.value_counts()[1]])\n",
    "scores\n",
    "\n"
   ]
  },
  {
   "cell_type": "code",
   "execution_count": 11,
   "id": "69a9054b",
   "metadata": {},
   "outputs": [
    {
     "data": {
      "image/png": "[encoded data removed]",
      "text/plain": [
       "<Figure size 432x432 with 1 Axes>"
      ]
     },
     "metadata": {},
     "output_type": "display_data"
    }
   ],
   "source": [
    "labels='Wins','Losses','Draws'\n",
    "plt.figure(figsize=(6,6))\n",
    "plt.pie(scores, labels=labels,autopct='%1.1f%%')\n",
    "plt.show() "
   ]
  },
  {
   "cell_type": "code",
   "execution_count": 12,
   "id": "fbf9fcc2",
   "metadata": {},
   "outputs": [
    {
     "data": {
      "image/png": "[encoded data removed]",
      "text/plain": [
       "<Figure size 432x432 with 1 Axes>"
      ]
     },
     "metadata": {},
     "output_type": "display_data"
    }
   ],
   "source": [
    "#An output plot of the pie chart of the neutral column in the input dataset.\n",
    "neutral = df.neutral.value_counts()\n",
    "labels='False','True'\n",
    "plt.figure(figsize=(6,6))\n",
    "plt.pie(neutral, labels=labels,autopct='%1.1f%%')\n",
    "plt.show()"
   ]
  },
  {
   "cell_type": "code",
   "execution_count": 13,
   "id": "daf293e6",
   "metadata": {},
   "outputs": [
    {
     "data": {
      "text/plain": [
       "False    32076\n",
       "True     10574\n",
       "Name: neutral, dtype: int64"
      ]
     },
     "execution_count": 13,
     "metadata": {},
     "output_type": "execute_result"
    }
   ],
   "source": [
    "neutral"
   ]
  },
  {
   "cell_type": "code",
   "execution_count": 14,
   "id": "653208cc",
   "metadata": {},
   "outputs": [
    {
     "data": {
      "text/plain": [
       "313"
      ]
     },
     "execution_count": 14,
     "metadata": {},
     "output_type": "execute_result"
    }
   ],
   "source": [
    "#The count of the names of unique team names from the attributes.\n",
    "\n",
    "hometeams=df.home_team.unique()\n",
    "awayteams=df.away_team.unique()\n",
    "teams= df[[\"home_team\", \"away_team\"]].values.ravel()\n",
    "unique_teams = len(pd.unique(teams))\n",
    "unique_teams"
   ]
  },
  {
   "cell_type": "code",
   "execution_count": null,
   "id": "7c6bdeec",
   "metadata": {},
   "outputs": [],
   "source": [
    "\n"
   ]
  }
 ],
 "metadata": {
  "kernelspec": {
   "display_name": "Python 3 (ipykernel)",
   "language": "python",
   "name": "python3"
  },
  "language_info": {
   "codemirror_mode": {
    "name": "ipython",
    "version": 3
   },
   "file_extension": ".py",
   "mimetype": "text/x-python",
   "name": "python",
   "nbconvert_exporter": "python",
   "pygments_lexer": "ipython3",
   "version": "3.10.0"
  }
 },
 "nbformat": 4,
 "nbformat_minor": 5
}
