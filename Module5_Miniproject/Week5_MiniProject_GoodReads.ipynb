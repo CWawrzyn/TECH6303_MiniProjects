{
 "cells": [
  {
   "cell_type": "markdown",
   "id": "cb049efc",
   "metadata": {},
   "source": [
    "# Goodreads Recommender System"
   ]
  },
  {
   "cell_type": "markdown",
   "id": "c5d4c7d0",
   "metadata": {},
   "source": [
    "## Essential Purpose:\n",
    "Creating a book recommender system in Python.\n",
    "## Skills tested:\n",
    "Using Pandas to access and explore the dataset.\n",
    "Using Pandas and Python in creating a simple popularity-based book recommender system.\n",
    "Using the Scikit-Learn implementation of TF-IDF Vectorizer in creating a content-based filtering recommender system for book recommendations.\n",
    "Using the Scikit-Learn distance matrices in calculating preferences in the recommender system.\n",
    "A dataset of books from Goodreads known for use in recommendation engines.\n",
    "Columns Description:\n",
    "bookID contains the unique ID for each book/series\n",
    "title contains the titles of the books\n",
    "authors contains the author of the particular book\n",
    "average_rating the average rating of the books, as decided by the users\n",
    "ISBNISBN (10) number, tells the information about a book - such as edition and publisher\n",
    "ISBN 13 the new format for ISBN, implemented in 2007. (13 digits)\n",
    "language_code denotes the language for the books\n",
    "Num_pages contains the number of pages for the book\n",
    "Ratings_count contains the number of ratings given for the book\n",
    "text_reviews_count the count of reviews left by users\n",
    "Submission of your project on GitHub is optional. If you choose to manage your project using GitHub, find guidelines for using GitHub here. Ensure you are coding using your Jupyter Notebook – it will be uploaded to GitHub when you perform a GIT push operation.\n",
    "You are expected to write around 35 lines of code to complete this project.\n"
   ]
  },
  {
   "cell_type": "markdown",
   "id": "41340bc2",
   "metadata": {},
   "source": [
    "# Download the dataset\n",
    "# Read dataset into pandas"
   ]
  },
  {
   "cell_type": "code",
   "execution_count": 1,
   "id": "13ca4f8f",
   "metadata": {},
   "outputs": [
    {
     "name": "stderr",
     "output_type": "stream",
     "text": [
      "C:\\Users\\Douglas\\AppData\\Local\\Temp/ipykernel_22572/930770395.py:2: FutureWarning: The error_bad_lines argument has been deprecated and will be removed in a future version. Use on_bad_lines in the future.\n",
      "\n",
      "\n",
      "  df=pd.read_csv('books.csv', error_bad_lines=False)\n",
      "b'Skipping line 3350: expected 12 fields, saw 13\\nSkipping line 4704: expected 12 fields, saw 13\\nSkipping line 5879: expected 12 fields, saw 13\\nSkipping line 8981: expected 12 fields, saw 13\\n'\n"
     ]
    }
   ],
   "source": [
    "import pandas as pd\n",
    "df=pd.read_csv('books.csv', error_bad_lines=False)"
   ]
  },
  {
   "cell_type": "code",
   "execution_count": 2,
   "id": "cf8d97ca",
   "metadata": {},
   "outputs": [
    {
     "data": {
      "text/html": [
       "<div>\n",
       "<style scoped>\n",
       "    .dataframe tbody tr th:only-of-type {\n",
       "        vertical-align: middle;\n",
       "    }\n",
       "\n",
       "    .dataframe tbody tr th {\n",
       "        vertical-align: top;\n",
       "    }\n",
       "\n",
       "    .dataframe thead th {\n",
       "        text-align: right;\n",
       "    }\n",
       "</style>\n",
       "<table border=\"1\" class=\"dataframe\">\n",
       "  <thead>\n",
       "    <tr style=\"text-align: right;\">\n",
       "      <th></th>\n",
       "      <th>bookID</th>\n",
       "      <th>title</th>\n",
       "      <th>authors</th>\n",
       "      <th>average_rating</th>\n",
       "      <th>isbn</th>\n",
       "      <th>isbn13</th>\n",
       "      <th>language_code</th>\n",
       "      <th>num_pages</th>\n",
       "      <th>ratings_count</th>\n",
       "      <th>text_reviews_count</th>\n",
       "      <th>publication_date</th>\n",
       "      <th>publisher</th>\n",
       "    </tr>\n",
       "  </thead>\n",
       "  <tbody>\n",
       "    <tr>\n",
       "      <th>0</th>\n",
       "      <td>1</td>\n",
       "      <td>Harry Potter and the Half-Blood Prince (Harry ...</td>\n",
       "      <td>J.K. Rowling/Mary GrandPré</td>\n",
       "      <td>4.57</td>\n",
       "      <td>0439785960</td>\n",
       "      <td>9780439785969</td>\n",
       "      <td>eng</td>\n",
       "      <td>652</td>\n",
       "      <td>2095690</td>\n",
       "      <td>27591</td>\n",
       "      <td>9/16/2006</td>\n",
       "      <td>Scholastic Inc.</td>\n",
       "    </tr>\n",
       "    <tr>\n",
       "      <th>1</th>\n",
       "      <td>2</td>\n",
       "      <td>Harry Potter and the Order of the Phoenix (Har...</td>\n",
       "      <td>J.K. Rowling/Mary GrandPré</td>\n",
       "      <td>4.49</td>\n",
       "      <td>0439358078</td>\n",
       "      <td>9780439358071</td>\n",
       "      <td>eng</td>\n",
       "      <td>870</td>\n",
       "      <td>2153167</td>\n",
       "      <td>29221</td>\n",
       "      <td>9/1/2004</td>\n",
       "      <td>Scholastic Inc.</td>\n",
       "    </tr>\n",
       "    <tr>\n",
       "      <th>2</th>\n",
       "      <td>4</td>\n",
       "      <td>Harry Potter and the Chamber of Secrets (Harry...</td>\n",
       "      <td>J.K. Rowling</td>\n",
       "      <td>4.42</td>\n",
       "      <td>0439554896</td>\n",
       "      <td>9780439554893</td>\n",
       "      <td>eng</td>\n",
       "      <td>352</td>\n",
       "      <td>6333</td>\n",
       "      <td>244</td>\n",
       "      <td>11/1/2003</td>\n",
       "      <td>Scholastic</td>\n",
       "    </tr>\n",
       "    <tr>\n",
       "      <th>3</th>\n",
       "      <td>5</td>\n",
       "      <td>Harry Potter and the Prisoner of Azkaban (Harr...</td>\n",
       "      <td>J.K. Rowling/Mary GrandPré</td>\n",
       "      <td>4.56</td>\n",
       "      <td>043965548X</td>\n",
       "      <td>9780439655484</td>\n",
       "      <td>eng</td>\n",
       "      <td>435</td>\n",
       "      <td>2339585</td>\n",
       "      <td>36325</td>\n",
       "      <td>5/1/2004</td>\n",
       "      <td>Scholastic Inc.</td>\n",
       "    </tr>\n",
       "    <tr>\n",
       "      <th>4</th>\n",
       "      <td>8</td>\n",
       "      <td>Harry Potter Boxed Set  Books 1-5 (Harry Potte...</td>\n",
       "      <td>J.K. Rowling/Mary GrandPré</td>\n",
       "      <td>4.78</td>\n",
       "      <td>0439682584</td>\n",
       "      <td>9780439682589</td>\n",
       "      <td>eng</td>\n",
       "      <td>2690</td>\n",
       "      <td>41428</td>\n",
       "      <td>164</td>\n",
       "      <td>9/13/2004</td>\n",
       "      <td>Scholastic</td>\n",
       "    </tr>\n",
       "  </tbody>\n",
       "</table>\n",
       "</div>"
      ],
      "text/plain": [
       "   bookID                                              title  \\\n",
       "0       1  Harry Potter and the Half-Blood Prince (Harry ...   \n",
       "1       2  Harry Potter and the Order of the Phoenix (Har...   \n",
       "2       4  Harry Potter and the Chamber of Secrets (Harry...   \n",
       "3       5  Harry Potter and the Prisoner of Azkaban (Harr...   \n",
       "4       8  Harry Potter Boxed Set  Books 1-5 (Harry Potte...   \n",
       "\n",
       "                      authors  average_rating        isbn         isbn13  \\\n",
       "0  J.K. Rowling/Mary GrandPré            4.57  0439785960  9780439785969   \n",
       "1  J.K. Rowling/Mary GrandPré            4.49  0439358078  9780439358071   \n",
       "2                J.K. Rowling            4.42  0439554896  9780439554893   \n",
       "3  J.K. Rowling/Mary GrandPré            4.56  043965548X  9780439655484   \n",
       "4  J.K. Rowling/Mary GrandPré            4.78  0439682584  9780439682589   \n",
       "\n",
       "  language_code    num_pages  ratings_count  text_reviews_count  \\\n",
       "0           eng          652        2095690               27591   \n",
       "1           eng          870        2153167               29221   \n",
       "2           eng          352           6333                 244   \n",
       "3           eng          435        2339585               36325   \n",
       "4           eng         2690          41428                 164   \n",
       "\n",
       "  publication_date        publisher  \n",
       "0        9/16/2006  Scholastic Inc.  \n",
       "1         9/1/2004  Scholastic Inc.  \n",
       "2        11/1/2003       Scholastic  \n",
       "3         5/1/2004  Scholastic Inc.  \n",
       "4        9/13/2004       Scholastic  "
      ]
     },
     "execution_count": 2,
     "metadata": {},
     "output_type": "execute_result"
    }
   ],
   "source": [
    "df.head(5)"
   ]
  },
  {
   "cell_type": "code",
   "execution_count": 3,
   "id": "bdff8962",
   "metadata": {},
   "outputs": [
    {
     "data": {
      "image/png": "[encoded data removed]",
      "text/plain": [
       "<Figure size 1152x288 with 1 Axes>"
      ]
     },
     "metadata": {
      "needs_background": "light"
     },
     "output_type": "display_data"
    }
   ],
   "source": [
    "import matplotlib.pyplot as plt\n",
    "import seaborn as sns\n",
    "\n",
    "plt.figure(figsize=(16,4))\n",
    "ax=sns.countplot(x=df.language_code, data=df)\n",
    "for p in ax.patches:\n",
    "    ax.annotate(str(p.get_height()), (p.get_x()-0.05, p.get_height()+100))"
   ]
  },
  {
   "cell_type": "code",
   "execution_count": 4,
   "id": "1d088251",
   "metadata": {},
   "outputs": [],
   "source": [
    "df=df.loc[df['language_code'].isin(['eng','en-US','en-GB','en-CA'])].reset_index()"
   ]
  },
  {
   "cell_type": "code",
   "execution_count": 5,
   "id": "0c93cb56",
   "metadata": {},
   "outputs": [
    {
     "data": {
      "text/html": [
       "<div>\n",
       "<style scoped>\n",
       "    .dataframe tbody tr th:only-of-type {\n",
       "        vertical-align: middle;\n",
       "    }\n",
       "\n",
       "    .dataframe tbody tr th {\n",
       "        vertical-align: top;\n",
       "    }\n",
       "\n",
       "    .dataframe thead th {\n",
       "        text-align: right;\n",
       "    }\n",
       "</style>\n",
       "<table border=\"1\" class=\"dataframe\">\n",
       "  <thead>\n",
       "    <tr style=\"text-align: right;\">\n",
       "      <th></th>\n",
       "      <th>index</th>\n",
       "      <th>bookID</th>\n",
       "      <th>title</th>\n",
       "      <th>authors</th>\n",
       "      <th>average_rating</th>\n",
       "      <th>isbn</th>\n",
       "      <th>isbn13</th>\n",
       "      <th>language_code</th>\n",
       "      <th>num_pages</th>\n",
       "      <th>ratings_count</th>\n",
       "      <th>text_reviews_count</th>\n",
       "      <th>publication_date</th>\n",
       "      <th>publisher</th>\n",
       "    </tr>\n",
       "  </thead>\n",
       "  <tbody>\n",
       "    <tr>\n",
       "      <th>0</th>\n",
       "      <td>0</td>\n",
       "      <td>1</td>\n",
       "      <td>Harry Potter and the Half-Blood Prince (Harry ...</td>\n",
       "      <td>J.K. Rowling/Mary GrandPré</td>\n",
       "      <td>4.57</td>\n",
       "      <td>0439785960</td>\n",
       "      <td>9780439785969</td>\n",
       "      <td>eng</td>\n",
       "      <td>652</td>\n",
       "      <td>2095690</td>\n",
       "      <td>27591</td>\n",
       "      <td>9/16/2006</td>\n",
       "      <td>Scholastic Inc.</td>\n",
       "    </tr>\n",
       "    <tr>\n",
       "      <th>1</th>\n",
       "      <td>1</td>\n",
       "      <td>2</td>\n",
       "      <td>Harry Potter and the Order of the Phoenix (Har...</td>\n",
       "      <td>J.K. Rowling/Mary GrandPré</td>\n",
       "      <td>4.49</td>\n",
       "      <td>0439358078</td>\n",
       "      <td>9780439358071</td>\n",
       "      <td>eng</td>\n",
       "      <td>870</td>\n",
       "      <td>2153167</td>\n",
       "      <td>29221</td>\n",
       "      <td>9/1/2004</td>\n",
       "      <td>Scholastic Inc.</td>\n",
       "    </tr>\n",
       "    <tr>\n",
       "      <th>2</th>\n",
       "      <td>2</td>\n",
       "      <td>4</td>\n",
       "      <td>Harry Potter and the Chamber of Secrets (Harry...</td>\n",
       "      <td>J.K. Rowling</td>\n",
       "      <td>4.42</td>\n",
       "      <td>0439554896</td>\n",
       "      <td>9780439554893</td>\n",
       "      <td>eng</td>\n",
       "      <td>352</td>\n",
       "      <td>6333</td>\n",
       "      <td>244</td>\n",
       "      <td>11/1/2003</td>\n",
       "      <td>Scholastic</td>\n",
       "    </tr>\n",
       "    <tr>\n",
       "      <th>3</th>\n",
       "      <td>3</td>\n",
       "      <td>5</td>\n",
       "      <td>Harry Potter and the Prisoner of Azkaban (Harr...</td>\n",
       "      <td>J.K. Rowling/Mary GrandPré</td>\n",
       "      <td>4.56</td>\n",
       "      <td>043965548X</td>\n",
       "      <td>9780439655484</td>\n",
       "      <td>eng</td>\n",
       "      <td>435</td>\n",
       "      <td>2339585</td>\n",
       "      <td>36325</td>\n",
       "      <td>5/1/2004</td>\n",
       "      <td>Scholastic Inc.</td>\n",
       "    </tr>\n",
       "    <tr>\n",
       "      <th>4</th>\n",
       "      <td>4</td>\n",
       "      <td>8</td>\n",
       "      <td>Harry Potter Boxed Set  Books 1-5 (Harry Potte...</td>\n",
       "      <td>J.K. Rowling/Mary GrandPré</td>\n",
       "      <td>4.78</td>\n",
       "      <td>0439682584</td>\n",
       "      <td>9780439682589</td>\n",
       "      <td>eng</td>\n",
       "      <td>2690</td>\n",
       "      <td>41428</td>\n",
       "      <td>164</td>\n",
       "      <td>9/13/2004</td>\n",
       "      <td>Scholastic</td>\n",
       "    </tr>\n",
       "    <tr>\n",
       "      <th>...</th>\n",
       "      <td>...</td>\n",
       "      <td>...</td>\n",
       "      <td>...</td>\n",
       "      <td>...</td>\n",
       "      <td>...</td>\n",
       "      <td>...</td>\n",
       "      <td>...</td>\n",
       "      <td>...</td>\n",
       "      <td>...</td>\n",
       "      <td>...</td>\n",
       "      <td>...</td>\n",
       "      <td>...</td>\n",
       "      <td>...</td>\n",
       "    </tr>\n",
       "    <tr>\n",
       "      <th>10532</th>\n",
       "      <td>11117</td>\n",
       "      <td>45630</td>\n",
       "      <td>Whores for Gloria</td>\n",
       "      <td>William T. Vollmann</td>\n",
       "      <td>3.69</td>\n",
       "      <td>0140231579</td>\n",
       "      <td>9780140231571</td>\n",
       "      <td>en-US</td>\n",
       "      <td>160</td>\n",
       "      <td>932</td>\n",
       "      <td>111</td>\n",
       "      <td>2/1/1994</td>\n",
       "      <td>Penguin Books</td>\n",
       "    </tr>\n",
       "    <tr>\n",
       "      <th>10533</th>\n",
       "      <td>11118</td>\n",
       "      <td>45631</td>\n",
       "      <td>Expelled from Eden: A William T. Vollmann Reader</td>\n",
       "      <td>William T. Vollmann/Larry McCaffery/Michael He...</td>\n",
       "      <td>4.06</td>\n",
       "      <td>1560254416</td>\n",
       "      <td>9781560254416</td>\n",
       "      <td>eng</td>\n",
       "      <td>512</td>\n",
       "      <td>156</td>\n",
       "      <td>20</td>\n",
       "      <td>12/21/2004</td>\n",
       "      <td>Da Capo Press</td>\n",
       "    </tr>\n",
       "    <tr>\n",
       "      <th>10534</th>\n",
       "      <td>11119</td>\n",
       "      <td>45633</td>\n",
       "      <td>You Bright and Risen Angels</td>\n",
       "      <td>William T. Vollmann</td>\n",
       "      <td>4.08</td>\n",
       "      <td>0140110879</td>\n",
       "      <td>9780140110876</td>\n",
       "      <td>eng</td>\n",
       "      <td>635</td>\n",
       "      <td>783</td>\n",
       "      <td>56</td>\n",
       "      <td>12/1/1988</td>\n",
       "      <td>Penguin Books</td>\n",
       "    </tr>\n",
       "    <tr>\n",
       "      <th>10535</th>\n",
       "      <td>11120</td>\n",
       "      <td>45634</td>\n",
       "      <td>The Ice-Shirt (Seven Dreams #1)</td>\n",
       "      <td>William T. Vollmann</td>\n",
       "      <td>3.96</td>\n",
       "      <td>0140131965</td>\n",
       "      <td>9780140131963</td>\n",
       "      <td>eng</td>\n",
       "      <td>415</td>\n",
       "      <td>820</td>\n",
       "      <td>95</td>\n",
       "      <td>8/1/1993</td>\n",
       "      <td>Penguin Books</td>\n",
       "    </tr>\n",
       "    <tr>\n",
       "      <th>10536</th>\n",
       "      <td>11121</td>\n",
       "      <td>45639</td>\n",
       "      <td>Poor People</td>\n",
       "      <td>William T. Vollmann</td>\n",
       "      <td>3.72</td>\n",
       "      <td>0060878827</td>\n",
       "      <td>9780060878825</td>\n",
       "      <td>eng</td>\n",
       "      <td>434</td>\n",
       "      <td>769</td>\n",
       "      <td>139</td>\n",
       "      <td>2/27/2007</td>\n",
       "      <td>Ecco</td>\n",
       "    </tr>\n",
       "  </tbody>\n",
       "</table>\n",
       "<p>10537 rows × 13 columns</p>\n",
       "</div>"
      ],
      "text/plain": [
       "       index  bookID                                              title  \\\n",
       "0          0       1  Harry Potter and the Half-Blood Prince (Harry ...   \n",
       "1          1       2  Harry Potter and the Order of the Phoenix (Har...   \n",
       "2          2       4  Harry Potter and the Chamber of Secrets (Harry...   \n",
       "3          3       5  Harry Potter and the Prisoner of Azkaban (Harr...   \n",
       "4          4       8  Harry Potter Boxed Set  Books 1-5 (Harry Potte...   \n",
       "...      ...     ...                                                ...   \n",
       "10532  11117   45630                                  Whores for Gloria   \n",
       "10533  11118   45631   Expelled from Eden: A William T. Vollmann Reader   \n",
       "10534  11119   45633                        You Bright and Risen Angels   \n",
       "10535  11120   45634                    The Ice-Shirt (Seven Dreams #1)   \n",
       "10536  11121   45639                                        Poor People   \n",
       "\n",
       "                                                 authors  average_rating  \\\n",
       "0                             J.K. Rowling/Mary GrandPré            4.57   \n",
       "1                             J.K. Rowling/Mary GrandPré            4.49   \n",
       "2                                           J.K. Rowling            4.42   \n",
       "3                             J.K. Rowling/Mary GrandPré            4.56   \n",
       "4                             J.K. Rowling/Mary GrandPré            4.78   \n",
       "...                                                  ...             ...   \n",
       "10532                                William T. Vollmann            3.69   \n",
       "10533  William T. Vollmann/Larry McCaffery/Michael He...            4.06   \n",
       "10534                                William T. Vollmann            4.08   \n",
       "10535                                William T. Vollmann            3.96   \n",
       "10536                                William T. Vollmann            3.72   \n",
       "\n",
       "             isbn         isbn13 language_code    num_pages  ratings_count  \\\n",
       "0      0439785960  9780439785969           eng          652        2095690   \n",
       "1      0439358078  9780439358071           eng          870        2153167   \n",
       "2      0439554896  9780439554893           eng          352           6333   \n",
       "3      043965548X  9780439655484           eng          435        2339585   \n",
       "4      0439682584  9780439682589           eng         2690          41428   \n",
       "...           ...            ...           ...          ...            ...   \n",
       "10532  0140231579  9780140231571         en-US          160            932   \n",
       "10533  1560254416  9781560254416           eng          512            156   \n",
       "10534  0140110879  9780140110876           eng          635            783   \n",
       "10535  0140131965  9780140131963           eng          415            820   \n",
       "10536  0060878827  9780060878825           eng          434            769   \n",
       "\n",
       "       text_reviews_count publication_date        publisher  \n",
       "0                   27591        9/16/2006  Scholastic Inc.  \n",
       "1                   29221         9/1/2004  Scholastic Inc.  \n",
       "2                     244        11/1/2003       Scholastic  \n",
       "3                   36325         5/1/2004  Scholastic Inc.  \n",
       "4                     164        9/13/2004       Scholastic  \n",
       "...                   ...              ...              ...  \n",
       "10532                 111         2/1/1994    Penguin Books  \n",
       "10533                  20       12/21/2004    Da Capo Press  \n",
       "10534                  56        12/1/1988    Penguin Books  \n",
       "10535                  95         8/1/1993    Penguin Books  \n",
       "10536                 139        2/27/2007             Ecco  \n",
       "\n",
       "[10537 rows x 13 columns]"
      ]
     },
     "execution_count": 5,
     "metadata": {},
     "output_type": "execute_result"
    }
   ],
   "source": [
    "df"
   ]
  },
  {
   "cell_type": "code",
   "execution_count": 6,
   "id": "5a2f7a79",
   "metadata": {},
   "outputs": [
    {
     "data": {
      "image/png": "[encoded data removed]",
      "text/plain": [
       "<Figure size 1152x288 with 1 Axes>"
      ]
     },
     "metadata": {
      "needs_background": "light"
     },
     "output_type": "display_data"
    }
   ],
   "source": [
    "plt.figure(figsize=(16,4))\n",
    "ax=sns.countplot(x=df.language_code, data=df)\n",
    "for p in ax.patches:\n",
    "    ax.annotate(str(p.get_height()), (p.get_x()-0.05, p.get_height()+100))"
   ]
  },
  {
   "cell_type": "markdown",
   "id": "2d80c3bb",
   "metadata": {},
   "source": [
    "# Popularity-based Recommender\n",
    "Create a function named Popularity Recommender and use it to recommend books based on popularity.\n",
    "Use a weighted rank similar to that used in the IMDB rating example in Lesson 2."
   ]
  },
  {
   "cell_type": "code",
   "execution_count": 7,
   "id": "4ae58517",
   "metadata": {},
   "outputs": [],
   "source": [
    "def popularityRecommender (df):\n",
    "    #Define the minimum vote count \n",
    "    minimum_ratings_count=0.75*df['ratings_count'].max()\n",
    "    \n",
    "    #define C- the mean rating\n",
    "    mean_rating = df['average_rating'].mean()\n",
    "    \n",
    "    df['weighted_rating']=(((df['ratings_count']/(df['ratings_count']+minimum_ratings_count))*df['average_rating'])+\n",
    "                            ((minimum_ratings_count/(df['ratings_count']+minimum_ratings_count))*mean_rating))\n",
    "    recommendations=df.sort_values(by='weighted_rating', ascending=False).head(5)\n",
    "    \n",
    "    return(recommendations)"
   ]
  },
  {
   "cell_type": "code",
   "execution_count": 8,
   "id": "9eebd382",
   "metadata": {},
   "outputs": [
    {
     "data": {
      "text/html": [
       "<div>\n",
       "<style scoped>\n",
       "    .dataframe tbody tr th:only-of-type {\n",
       "        vertical-align: middle;\n",
       "    }\n",
       "\n",
       "    .dataframe tbody tr th {\n",
       "        vertical-align: top;\n",
       "    }\n",
       "\n",
       "    .dataframe thead th {\n",
       "        text-align: right;\n",
       "    }\n",
       "</style>\n",
       "<table border=\"1\" class=\"dataframe\">\n",
       "  <thead>\n",
       "    <tr style=\"text-align: right;\">\n",
       "      <th></th>\n",
       "      <th>index</th>\n",
       "      <th>bookID</th>\n",
       "      <th>title</th>\n",
       "      <th>authors</th>\n",
       "      <th>average_rating</th>\n",
       "      <th>isbn</th>\n",
       "      <th>isbn13</th>\n",
       "      <th>language_code</th>\n",
       "      <th>num_pages</th>\n",
       "      <th>ratings_count</th>\n",
       "      <th>text_reviews_count</th>\n",
       "      <th>publication_date</th>\n",
       "      <th>publisher</th>\n",
       "      <th>weighted_rating</th>\n",
       "    </tr>\n",
       "  </thead>\n",
       "  <tbody>\n",
       "    <tr>\n",
       "      <th>3</th>\n",
       "      <td>3</td>\n",
       "      <td>5</td>\n",
       "      <td>Harry Potter and the Prisoner of Azkaban (Harr...</td>\n",
       "      <td>J.K. Rowling/Mary GrandPré</td>\n",
       "      <td>4.56</td>\n",
       "      <td>043965548X</td>\n",
       "      <td>9780439655484</td>\n",
       "      <td>eng</td>\n",
       "      <td>435</td>\n",
       "      <td>2339585</td>\n",
       "      <td>36325</td>\n",
       "      <td>5/1/2004</td>\n",
       "      <td>Scholastic Inc.</td>\n",
       "      <td>4.185444</td>\n",
       "    </tr>\n",
       "    <tr>\n",
       "      <th>0</th>\n",
       "      <td>0</td>\n",
       "      <td>1</td>\n",
       "      <td>Harry Potter and the Half-Blood Prince (Harry ...</td>\n",
       "      <td>J.K. Rowling/Mary GrandPré</td>\n",
       "      <td>4.57</td>\n",
       "      <td>0439785960</td>\n",
       "      <td>9780439785969</td>\n",
       "      <td>eng</td>\n",
       "      <td>652</td>\n",
       "      <td>2095690</td>\n",
       "      <td>27591</td>\n",
       "      <td>9/16/2006</td>\n",
       "      <td>Scholastic Inc.</td>\n",
       "      <td>4.172746</td>\n",
       "    </tr>\n",
       "    <tr>\n",
       "      <th>1</th>\n",
       "      <td>1</td>\n",
       "      <td>2</td>\n",
       "      <td>Harry Potter and the Order of the Phoenix (Har...</td>\n",
       "      <td>J.K. Rowling/Mary GrandPré</td>\n",
       "      <td>4.49</td>\n",
       "      <td>0439358078</td>\n",
       "      <td>9780439358071</td>\n",
       "      <td>eng</td>\n",
       "      <td>870</td>\n",
       "      <td>2153167</td>\n",
       "      <td>29221</td>\n",
       "      <td>9/1/2004</td>\n",
       "      <td>Scholastic Inc.</td>\n",
       "      <td>4.146071</td>\n",
       "    </tr>\n",
       "    <tr>\n",
       "      <th>4169</th>\n",
       "      <td>4415</td>\n",
       "      <td>15881</td>\n",
       "      <td>Harry Potter and the Chamber of Secrets (Harry...</td>\n",
       "      <td>J.K. Rowling/Mary GrandPré</td>\n",
       "      <td>4.42</td>\n",
       "      <td>0439064864</td>\n",
       "      <td>9780439064866</td>\n",
       "      <td>eng</td>\n",
       "      <td>341</td>\n",
       "      <td>2293963</td>\n",
       "      <td>34692</td>\n",
       "      <td>6/2/1999</td>\n",
       "      <td>Arthur A. Levine Books / Scholastic Inc.</td>\n",
       "      <td>4.126539</td>\n",
       "    </tr>\n",
       "    <tr>\n",
       "      <th>23</th>\n",
       "      <td>23</td>\n",
       "      <td>34</td>\n",
       "      <td>The Fellowship of the Ring (The Lord of the Ri...</td>\n",
       "      <td>J.R.R. Tolkien</td>\n",
       "      <td>4.36</td>\n",
       "      <td>0618346252</td>\n",
       "      <td>9780618346257</td>\n",
       "      <td>eng</td>\n",
       "      <td>398</td>\n",
       "      <td>2128944</td>\n",
       "      <td>13670</td>\n",
       "      <td>9/5/2003</td>\n",
       "      <td>Houghton Mifflin Harcourt</td>\n",
       "      <td>4.094953</td>\n",
       "    </tr>\n",
       "  </tbody>\n",
       "</table>\n",
       "</div>"
      ],
      "text/plain": [
       "      index  bookID                                              title  \\\n",
       "3         3       5  Harry Potter and the Prisoner of Azkaban (Harr...   \n",
       "0         0       1  Harry Potter and the Half-Blood Prince (Harry ...   \n",
       "1         1       2  Harry Potter and the Order of the Phoenix (Har...   \n",
       "4169   4415   15881  Harry Potter and the Chamber of Secrets (Harry...   \n",
       "23       23      34  The Fellowship of the Ring (The Lord of the Ri...   \n",
       "\n",
       "                         authors  average_rating        isbn         isbn13  \\\n",
       "3     J.K. Rowling/Mary GrandPré            4.56  043965548X  9780439655484   \n",
       "0     J.K. Rowling/Mary GrandPré            4.57  0439785960  9780439785969   \n",
       "1     J.K. Rowling/Mary GrandPré            4.49  0439358078  9780439358071   \n",
       "4169  J.K. Rowling/Mary GrandPré            4.42  0439064864  9780439064866   \n",
       "23                J.R.R. Tolkien            4.36  0618346252  9780618346257   \n",
       "\n",
       "     language_code    num_pages  ratings_count  text_reviews_count  \\\n",
       "3              eng          435        2339585               36325   \n",
       "0              eng          652        2095690               27591   \n",
       "1              eng          870        2153167               29221   \n",
       "4169           eng          341        2293963               34692   \n",
       "23             eng          398        2128944               13670   \n",
       "\n",
       "     publication_date                                 publisher  \\\n",
       "3            5/1/2004                           Scholastic Inc.   \n",
       "0           9/16/2006                           Scholastic Inc.   \n",
       "1            9/1/2004                           Scholastic Inc.   \n",
       "4169         6/2/1999  Arthur A. Levine Books / Scholastic Inc.   \n",
       "23           9/5/2003                 Houghton Mifflin Harcourt   \n",
       "\n",
       "      weighted_rating  \n",
       "3            4.185444  \n",
       "0            4.172746  \n",
       "1            4.146071  \n",
       "4169         4.126539  \n",
       "23           4.094953  "
      ]
     },
     "execution_count": 8,
     "metadata": {},
     "output_type": "execute_result"
    }
   ],
   "source": [
    "top5=popularityRecommender(df)\n",
    "top5.head(5)"
   ]
  },
  {
   "cell_type": "code",
   "execution_count": 9,
   "id": "767dcb4c",
   "metadata": {},
   "outputs": [
    {
     "name": "stdout",
     "output_type": "stream",
     "text": [
      "[[3 5 'Harry Potter and the Prisoner of Azkaban (Harry Potter  #3)'\n",
      "  'J.K. Rowling/Mary GrandPré' 4.56 '043965548X' 9780439655484 'eng' 435\n",
      "  2339585 36325 '5/1/2004' 'Scholastic Inc.' 4.1854440199255585]\n",
      " [0 1 'Harry Potter and the Half-Blood Prince (Harry Potter  #6)'\n",
      "  'J.K. Rowling/Mary GrandPré' 4.57 '0439785960' 9780439785969 'eng' 652\n",
      "  2095690 27591 '9/16/2006' 'Scholastic Inc.' 4.172746292838123]\n",
      " [1 2 'Harry Potter and the Order of the Phoenix (Harry Potter  #5)'\n",
      "  'J.K. Rowling/Mary GrandPré' 4.49 '0439358078' 9780439358071 'eng' 870\n",
      "  2153167 29221 '9/1/2004' 'Scholastic Inc.' 4.1460708244680315]\n",
      " [4415 15881 'Harry Potter and the Chamber of Secrets (Harry Potter  #2)'\n",
      "  'J.K. Rowling/Mary GrandPré' 4.42 '0439064864' 9780439064866 'eng' 341\n",
      "  2293963 34692 '6/2/1999' 'Arthur A. Levine Books / Scholastic Inc.'\n",
      "  4.126539405559066]\n",
      " [23 34 'The Fellowship of the Ring (The Lord of the Rings  #1)'\n",
      "  'J.R.R. Tolkien' 4.36 '0618346252' 9780618346257 'eng' 398 2128944\n",
      "  13670 '9/5/2003' 'Houghton Mifflin Harcourt' 4.094953050552009]]\n"
     ]
    }
   ],
   "source": [
    "top5Names=top5.head(5).values\n",
    "print(top5Names)"
   ]
  },
  {
   "cell_type": "code",
   "execution_count": 10,
   "id": "ff999b8d",
   "metadata": {},
   "outputs": [
    {
     "name": "stdout",
     "output_type": "stream",
     "text": [
      "['Harry Potter and the Half-Blood Prince (Harry Potter  #6)'\n",
      " 'Harry Potter and the Order of the Phoenix (Harry Potter  #5)'\n",
      " 'Harry Potter and the Chamber of Secrets (Harry Potter  #2)'\n",
      " 'Harry Potter and the Prisoner of Azkaban (Harry Potter  #3)'\n",
      " 'Harry Potter Boxed Set  Books 1-5 (Harry Potter  #1-5)']\n"
     ]
    }
   ],
   "source": [
    "top5Names=df['title'].head(5).values\n",
    "print(top5Names)"
   ]
  },
  {
   "cell_type": "markdown",
   "id": "fc5557a0",
   "metadata": {},
   "source": [
    "# Content-based Recommender\n",
    "Create a function named Content-based Recommender and use it to recommend books based on content."
   ]
  },
  {
   "cell_type": "code",
   "execution_count": 11,
   "id": "240fb017",
   "metadata": {},
   "outputs": [],
   "source": [
    "from sklearn.metrics.pairwise import linear_kernel\n",
    "from sklearn.feature_extraction.text import TfidfVectorizer"
   ]
  },
  {
   "cell_type": "code",
   "execution_count": 12,
   "id": "4b08b197",
   "metadata": {},
   "outputs": [],
   "source": [
    "#assign top words based on language - stop words don't get added up in count \n",
    "cbr=TfidfVectorizer(stop_words='english')\n",
    "\n",
    "#scale of the title of books in out dataset\n",
    "tfidf_matrix = cbr.fit_transform(df['title'])\n",
    "\n",
    "# assign the instance of our recommender function \n",
    "distance_matrix = linear_kernel(tfidf_matrix)\n",
    "\n",
    "#recreate the indices of our books by removing any dupliactes\n",
    "indices = pd.Series(df.index, index=df['title']).drop_duplicates()"
   ]
  },
  {
   "cell_type": "code",
   "execution_count": 13,
   "id": "830522a3",
   "metadata": {},
   "outputs": [
    {
     "data": {
      "text/plain": [
       "title\n",
       "Harry Potter and the Half-Blood Prince (Harry Potter  #6)           0\n",
       "Harry Potter and the Order of the Phoenix (Harry Potter  #5)        1\n",
       "Harry Potter and the Chamber of Secrets (Harry Potter  #2)          2\n",
       "Harry Potter and the Prisoner of Azkaban (Harry Potter  #3)         3\n",
       "Harry Potter Boxed Set  Books 1-5 (Harry Potter  #1-5)              4\n",
       "                                                                ...  \n",
       "Whores for Gloria                                               10532\n",
       "Expelled from Eden: A William T. Vollmann Reader                10533\n",
       "You Bright and Risen Angels                                     10534\n",
       "The Ice-Shirt (Seven Dreams #1)                                 10535\n",
       "Poor People                                                     10536\n",
       "Length: 10537, dtype: int64"
      ]
     },
     "execution_count": 13,
     "metadata": {},
     "output_type": "execute_result"
    }
   ],
   "source": [
    "indices"
   ]
  },
  {
   "cell_type": "code",
   "execution_count": 14,
   "id": "eb3a811f",
   "metadata": {},
   "outputs": [
    {
     "data": {
      "text/plain": [
       "111028369"
      ]
     },
     "execution_count": 14,
     "metadata": {},
     "output_type": "execute_result"
    }
   ],
   "source": [
    "distance_matrix.size"
   ]
  },
  {
   "cell_type": "code",
   "execution_count": 15,
   "id": "8517ed2d",
   "metadata": {},
   "outputs": [],
   "source": [
    "def ContentBasedRecommender(title, indices, distance_matrix):\n",
    "    id_=indices[title]\n",
    "    distances=list(enumerate(distance_matrix[id_]))\n",
    "    distances=sorted(distances, key=lambda x: x[1], reverse=True) #sort by distance function\n",
    "    distances=distances[1:6]\n",
    "    recommendations=[distance[0] for distance in distances]\n",
    "    return df['title'].iloc[recommendations]\n"
   ]
  },
  {
   "cell_type": "code",
   "execution_count": 16,
   "id": "4e9e4e37",
   "metadata": {},
   "outputs": [
    {
     "data": {
      "text/plain": [
       "7292                  The Book of Other People\n",
       "2872    The Working Poor: Invisible in America\n",
       "3265                            All New People\n",
       "9017                       A Man of the People\n",
       "212              We Were Not Like Other People\n",
       "Name: title, dtype: object"
      ]
     },
     "execution_count": 16,
     "metadata": {},
     "output_type": "execute_result"
    }
   ],
   "source": [
    "# try one\n",
    "ContentBasedRecommender(\"Poor People\", indices, distance_matrix)"
   ]
  },
  {
   "cell_type": "code",
   "execution_count": 17,
   "id": "4c093cc3",
   "metadata": {},
   "outputs": [
    {
     "data": {
      "text/plain": [
       "10236               Small Island\n",
       "1386                      Island\n",
       "3788                Small Wonder\n",
       "9029     The God of Small Things\n",
       "137              Treasure Island\n",
       "Name: title, dtype: object"
      ]
     },
     "execution_count": 17,
     "metadata": {},
     "output_type": "execute_result"
    }
   ],
   "source": [
    "#try another \n",
    "ContentBasedRecommender(\"Notes from a Small Island\", indices, distance_matrix)"
   ]
  },
  {
   "cell_type": "markdown",
   "id": "85306fc5",
   "metadata": {},
   "source": [
    "# Content Based Recommender based on Author \n",
    " import additional libraries "
   ]
  },
  {
   "cell_type": "code",
   "execution_count": 18,
   "id": "2566e9c4",
   "metadata": {},
   "outputs": [],
   "source": [
    "from sklearn.metrics.pairwise import cosine_similarity"
   ]
  },
  {
   "cell_type": "code",
   "execution_count": 19,
   "id": "fb1f92ed",
   "metadata": {},
   "outputs": [],
   "source": [
    "#assign stop words based on language \n",
    "cbr=TfidfVectorizer(stop_words='english')\n",
    "\n",
    "#scale the authors of the books in our dataset\n",
    "tfidf_matrix=cbr.fit_transform(df['authors'])\n",
    "\n",
    "#assign the instance of our recommender function\n",
    "distance_matrix = cosine_similarity(tfidf_matrix)\n",
    "\n",
    "#recreate the indices of our list of authors \n",
    "df=df.drop_duplicates(subset=\"authors\")\n",
    "indices=pd.Series(df.index, index=df['authors']).drop_duplicates()"
   ]
  },
  {
   "cell_type": "code",
   "execution_count": 20,
   "id": "0fed7dce",
   "metadata": {},
   "outputs": [
    {
     "data": {
      "text/plain": [
       "authors\n",
       "J.K. Rowling/Mary GrandPré                                    0\n",
       "J.K. Rowling                                                  2\n",
       "W. Frederick Zimmerman                                        5\n",
       "Douglas Adams                                                 7\n",
       "Douglas Adams/Stephen Fry                                    10\n",
       "                                                          ...  \n",
       "Sam R. Watkins                                            10527\n",
       "Alexander Hunter                                          10528\n",
       "David Wood/Roald Dahl                                     10529\n",
       "Dave Crane/Eric Pascarello/Darren James                   10531\n",
       "William T. Vollmann/Larry McCaffery/Michael Hemmingson    10533\n",
       "Length: 6359, dtype: int64"
      ]
     },
     "execution_count": 20,
     "metadata": {},
     "output_type": "execute_result"
    }
   ],
   "source": [
    "indices"
   ]
  },
  {
   "cell_type": "code",
   "execution_count": 21,
   "id": "66b16c55",
   "metadata": {},
   "outputs": [
    {
     "data": {
      "text/plain": [
       "array([[1.        , 1.        , 0.60960511, ..., 0.        , 0.        ,\n",
       "        0.        ],\n",
       "       [1.        , 1.        , 0.60960511, ..., 0.        , 0.        ,\n",
       "        0.        ],\n",
       "       [0.60960511, 0.60960511, 1.        , ..., 0.        , 0.        ,\n",
       "        0.        ],\n",
       "       ...,\n",
       "       [0.        , 0.        , 0.        , ..., 1.        , 1.        ,\n",
       "        1.        ],\n",
       "       [0.        , 0.        , 0.        , ..., 1.        , 1.        ,\n",
       "        1.        ],\n",
       "       [0.        , 0.        , 0.        , ..., 1.        , 1.        ,\n",
       "        1.        ]])"
      ]
     },
     "execution_count": 21,
     "metadata": {},
     "output_type": "execute_result"
    }
   ],
   "source": [
    "distance_matrix"
   ]
  },
  {
   "cell_type": "code",
   "execution_count": 22,
   "id": "a411b325",
   "metadata": {},
   "outputs": [
    {
     "data": {
      "text/plain": [
       "(10537, 10537)"
      ]
     },
     "execution_count": 22,
     "metadata": {},
     "output_type": "execute_result"
    }
   ],
   "source": [
    "distance_matrix.shape"
   ]
  },
  {
   "cell_type": "code",
   "execution_count": 23,
   "id": "7b4821b1",
   "metadata": {},
   "outputs": [],
   "source": [
    "def ContentBasedAuthorRecommender(author, indices, distance_matrix):\n",
    "    id_=indices[author]\n",
    "    distances=list(enumerate(distance_matrix[id_]))\n",
    "    distances=sorted(distances, key=lambda x: x[1], reverse=True) #sort by distance function\n",
    "    distances=distances[1:6]\n",
    "    recommendations=[distance[0] for distance in distances]\n",
    "    return df['authors'].iloc[recommendations]"
   ]
  },
  {
   "cell_type": "code",
   "execution_count": 24,
   "id": "7b406775",
   "metadata": {},
   "outputs": [
    {
     "data": {
      "text/plain": [
       "40      Edward P. Jones/Kevin R. Free\n",
       "42                       Satyajit Das\n",
       "936                Colleen McCullough\n",
       "2358                       Andre Duza\n",
       "2360         Kate Bornstein/Sara Quin\n",
       "Name: authors, dtype: object"
      ]
     },
     "execution_count": 24,
     "metadata": {},
     "output_type": "execute_result"
    }
   ],
   "source": [
    "ContentBasedAuthorRecommender(\"J.R.R. Tolkien\", indices, distance_matrix)"
   ]
  },
  {
   "cell_type": "markdown",
   "id": "7daf3a75",
   "metadata": {},
   "source": [
    "# Submit on Github"
   ]
  }
 ],
 "metadata": {
  "kernelspec": {
   "display_name": "Python 3 (ipykernel)",
   "language": "python",
   "name": "python3"
  },
  "language_info": {
   "codemirror_mode": {
    "name": "ipython",
    "version": 3
   },
   "file_extension": ".py",
   "mimetype": "text/x-python",
   "name": "python",
   "nbconvert_exporter": "python",
   "pygments_lexer": "ipython3",
   "version": "3.10.0"
  }
 },
 "nbformat": 4,
 "nbformat_minor": 5
}
