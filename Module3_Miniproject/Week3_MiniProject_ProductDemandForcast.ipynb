{
 "cells": [
  {
   "cell_type": "markdown",
   "id": "5987ca27",
   "metadata": {},
   "source": [
    "# Product Demand Forcasts"
   ]
  },
  {
   "cell_type": "markdown",
   "id": "09063a8a",
   "metadata": {},
   "source": [
    "# Essential Purpose\n",
    "## Skills tested:\n",
    "Using Pandas to access and explore the dataset.\n",
    "Using Pandas to cleanse columns and choose features.\n",
    "Using Scikit-Learn to preprocess the data before training.\n",
    "Using decision tree and linear regressors for regression modeling and testing data.\n",
    "Using Scikit-Learn for regression evaluation and enhancement.\n",
    "## Description:\n",
    "Product demand fluctuations are exceptionally important for companies. Let's investigate one company's data and see if we can build a model to predict a product's demand!\n",
    "License: The dataset is a GPL 2 dataset, and it is publicly available online.\n",
    "Submission of your project on GitHub is optional. If you choose to manage your project using GitHub, find guidelines for using GitHub here. Ensure you are coding using your Jupyter Notebook – it will be uploaded to GitHub when you perform a GIT push operation.\n",
    "## Expected Output\n",
    "By the end of this mini project, you will need to deliver within your code:\n",
    "Multiple R-squared measures resembling different criteria used for training your decision trees regression.\n",
    "The R-squared measure resembling support vector regression (SVR) output.\n",
    "You are expected to write around 25 lines of code to complete this project.\n"
   ]
  },
  {
   "cell_type": "code",
   "execution_count": 1,
   "id": "e9b42300",
   "metadata": {},
   "outputs": [
    {
     "name": "stdout",
     "output_type": "stream",
     "text": [
      "(1048575, 5)\n"
     ]
    },
    {
     "data": {
      "text/html": [
       "<div>\n",
       "<style scoped>\n",
       "    .dataframe tbody tr th:only-of-type {\n",
       "        vertical-align: middle;\n",
       "    }\n",
       "\n",
       "    .dataframe tbody tr th {\n",
       "        vertical-align: top;\n",
       "    }\n",
       "\n",
       "    .dataframe thead th {\n",
       "        text-align: right;\n",
       "    }\n",
       "</style>\n",
       "<table border=\"1\" class=\"dataframe\">\n",
       "  <thead>\n",
       "    <tr style=\"text-align: right;\">\n",
       "      <th></th>\n",
       "      <th>Product_Code</th>\n",
       "      <th>Warehouse</th>\n",
       "      <th>Product_Category</th>\n",
       "      <th>Date</th>\n",
       "      <th>Order_Demand</th>\n",
       "    </tr>\n",
       "  </thead>\n",
       "  <tbody>\n",
       "    <tr>\n",
       "      <th>0</th>\n",
       "      <td>Product_0993</td>\n",
       "      <td>Whse_J</td>\n",
       "      <td>Category_028</td>\n",
       "      <td>2012/7/27</td>\n",
       "      <td>100</td>\n",
       "    </tr>\n",
       "    <tr>\n",
       "      <th>1</th>\n",
       "      <td>Product_0979</td>\n",
       "      <td>Whse_J</td>\n",
       "      <td>Category_028</td>\n",
       "      <td>2012/1/19</td>\n",
       "      <td>500</td>\n",
       "    </tr>\n",
       "    <tr>\n",
       "      <th>2</th>\n",
       "      <td>Product_0979</td>\n",
       "      <td>Whse_J</td>\n",
       "      <td>Category_028</td>\n",
       "      <td>2012/2/3</td>\n",
       "      <td>500</td>\n",
       "    </tr>\n",
       "    <tr>\n",
       "      <th>3</th>\n",
       "      <td>Product_0979</td>\n",
       "      <td>Whse_J</td>\n",
       "      <td>Category_028</td>\n",
       "      <td>2012/2/9</td>\n",
       "      <td>500</td>\n",
       "    </tr>\n",
       "    <tr>\n",
       "      <th>4</th>\n",
       "      <td>Product_0979</td>\n",
       "      <td>Whse_J</td>\n",
       "      <td>Category_028</td>\n",
       "      <td>2012/3/2</td>\n",
       "      <td>500</td>\n",
       "    </tr>\n",
       "  </tbody>\n",
       "</table>\n",
       "</div>"
      ],
      "text/plain": [
       "   Product_Code Warehouse Product_Category       Date Order_Demand\n",
       "0  Product_0993    Whse_J     Category_028  2012/7/27         100 \n",
       "1  Product_0979    Whse_J     Category_028  2012/1/19         500 \n",
       "2  Product_0979    Whse_J     Category_028   2012/2/3         500 \n",
       "3  Product_0979    Whse_J     Category_028   2012/2/9         500 \n",
       "4  Product_0979    Whse_J     Category_028   2012/3/2         500 "
      ]
     },
     "execution_count": 1,
     "metadata": {},
     "output_type": "execute_result"
    }
   ],
   "source": [
    "# Download and read the dataset \n",
    "import pandas as pd \n",
    "df=pd.read_csv('Historical Product Demand.csv')\n",
    "print(df.shape)\n",
    "df.head(5)"
   ]
  },
  {
   "cell_type": "code",
   "execution_count": 2,
   "id": "f406d244",
   "metadata": {},
   "outputs": [],
   "source": [
    "df.dropna(inplace=True)"
   ]
  },
  {
   "cell_type": "code",
   "execution_count": 3,
   "id": "6fb98899",
   "metadata": {},
   "outputs": [
    {
     "data": {
      "text/plain": [
       "(1037336, 5)"
      ]
     },
     "execution_count": 3,
     "metadata": {},
     "output_type": "execute_result"
    }
   ],
   "source": [
    "features = len(df.columns)\n",
    "df.shape"
   ]
  },
  {
   "cell_type": "markdown",
   "id": "8ed44b62",
   "metadata": {},
   "source": [
    "# Extract Features\n",
    "Exclude the region and date from the considered features.\n",
    "Hint: You can choose to use all the features."
   ]
  },
  {
   "cell_type": "code",
   "execution_count": 4,
   "id": "705e8c91",
   "metadata": {},
   "outputs": [],
   "source": [
    "#Assuming 'region' means 'Warehouse'\n",
    "#df.drop(['Date', 'Warehouse'], axis=1, inplace=True)\n",
    "df.drop(['Date'], axis=1, inplace=True)"
   ]
  },
  {
   "cell_type": "code",
   "execution_count": 5,
   "id": "b86f3ac2",
   "metadata": {},
   "outputs": [
    {
     "data": {
      "text/html": [
       "<div>\n",
       "<style scoped>\n",
       "    .dataframe tbody tr th:only-of-type {\n",
       "        vertical-align: middle;\n",
       "    }\n",
       "\n",
       "    .dataframe tbody tr th {\n",
       "        vertical-align: top;\n",
       "    }\n",
       "\n",
       "    .dataframe thead th {\n",
       "        text-align: right;\n",
       "    }\n",
       "</style>\n",
       "<table border=\"1\" class=\"dataframe\">\n",
       "  <thead>\n",
       "    <tr style=\"text-align: right;\">\n",
       "      <th></th>\n",
       "      <th>Product_Code</th>\n",
       "      <th>Warehouse</th>\n",
       "      <th>Product_Category</th>\n",
       "      <th>Order_Demand</th>\n",
       "    </tr>\n",
       "  </thead>\n",
       "  <tbody>\n",
       "    <tr>\n",
       "      <th>0</th>\n",
       "      <td>Product_0993</td>\n",
       "      <td>Whse_J</td>\n",
       "      <td>Category_028</td>\n",
       "      <td>100</td>\n",
       "    </tr>\n",
       "    <tr>\n",
       "      <th>1</th>\n",
       "      <td>Product_0979</td>\n",
       "      <td>Whse_J</td>\n",
       "      <td>Category_028</td>\n",
       "      <td>500</td>\n",
       "    </tr>\n",
       "    <tr>\n",
       "      <th>2</th>\n",
       "      <td>Product_0979</td>\n",
       "      <td>Whse_J</td>\n",
       "      <td>Category_028</td>\n",
       "      <td>500</td>\n",
       "    </tr>\n",
       "    <tr>\n",
       "      <th>3</th>\n",
       "      <td>Product_0979</td>\n",
       "      <td>Whse_J</td>\n",
       "      <td>Category_028</td>\n",
       "      <td>500</td>\n",
       "    </tr>\n",
       "    <tr>\n",
       "      <th>4</th>\n",
       "      <td>Product_0979</td>\n",
       "      <td>Whse_J</td>\n",
       "      <td>Category_028</td>\n",
       "      <td>500</td>\n",
       "    </tr>\n",
       "  </tbody>\n",
       "</table>\n",
       "</div>"
      ],
      "text/plain": [
       "   Product_Code Warehouse Product_Category Order_Demand\n",
       "0  Product_0993    Whse_J     Category_028         100 \n",
       "1  Product_0979    Whse_J     Category_028         500 \n",
       "2  Product_0979    Whse_J     Category_028         500 \n",
       "3  Product_0979    Whse_J     Category_028         500 \n",
       "4  Product_0979    Whse_J     Category_028         500 "
      ]
     },
     "execution_count": 5,
     "metadata": {},
     "output_type": "execute_result"
    }
   ],
   "source": [
    "df.head(5)"
   ]
  },
  {
   "cell_type": "markdown",
   "id": "4a11e864",
   "metadata": {},
   "source": [
    "# Perform Preprocessing\n",
    "Perform any needed pre-processing on the chosen features including:\n",
    "Scaling.\n",
    "Encoding.\n",
    "Dealing with Nan values.\n",
    "Hint:\n",
    "Use only the preprocessing steps you think are useful."
   ]
  },
  {
   "cell_type": "code",
   "execution_count": 6,
   "id": "eb47f45c",
   "metadata": {},
   "outputs": [
    {
     "data": {
      "text/html": [
       "<div>\n",
       "<style scoped>\n",
       "    .dataframe tbody tr th:only-of-type {\n",
       "        vertical-align: middle;\n",
       "    }\n",
       "\n",
       "    .dataframe tbody tr th {\n",
       "        vertical-align: top;\n",
       "    }\n",
       "\n",
       "    .dataframe thead th {\n",
       "        text-align: right;\n",
       "    }\n",
       "</style>\n",
       "<table border=\"1\" class=\"dataframe\">\n",
       "  <thead>\n",
       "    <tr style=\"text-align: right;\">\n",
       "      <th></th>\n",
       "      <th>Product_Code</th>\n",
       "      <th>Warehouse</th>\n",
       "      <th>Product_Category</th>\n",
       "      <th>Order_Demand</th>\n",
       "    </tr>\n",
       "  </thead>\n",
       "  <tbody>\n",
       "    <tr>\n",
       "      <th>0</th>\n",
       "      <td>982</td>\n",
       "      <td>2</td>\n",
       "      <td>27</td>\n",
       "      <td>100</td>\n",
       "    </tr>\n",
       "    <tr>\n",
       "      <th>1</th>\n",
       "      <td>968</td>\n",
       "      <td>2</td>\n",
       "      <td>27</td>\n",
       "      <td>500</td>\n",
       "    </tr>\n",
       "    <tr>\n",
       "      <th>2</th>\n",
       "      <td>968</td>\n",
       "      <td>2</td>\n",
       "      <td>27</td>\n",
       "      <td>500</td>\n",
       "    </tr>\n",
       "    <tr>\n",
       "      <th>3</th>\n",
       "      <td>968</td>\n",
       "      <td>2</td>\n",
       "      <td>27</td>\n",
       "      <td>500</td>\n",
       "    </tr>\n",
       "    <tr>\n",
       "      <th>4</th>\n",
       "      <td>968</td>\n",
       "      <td>2</td>\n",
       "      <td>27</td>\n",
       "      <td>500</td>\n",
       "    </tr>\n",
       "  </tbody>\n",
       "</table>\n",
       "</div>"
      ],
      "text/plain": [
       "   Product_Code  Warehouse  Product_Category Order_Demand\n",
       "0           982          2                27         100 \n",
       "1           968          2                27         500 \n",
       "2           968          2                27         500 \n",
       "3           968          2                27         500 \n",
       "4           968          2                27         500 "
      ]
     },
     "execution_count": 6,
     "metadata": {},
     "output_type": "execute_result"
    }
   ],
   "source": [
    "#encode the \"Product_Code\" and \"Product_Category\" data columns\n",
    "from sklearn.preprocessing import LabelEncoder\n",
    "\n",
    "df[\"Product_Code\"] = LabelEncoder().fit_transform(df[\"Product_Code\"])\n",
    "df[\"Product_Category\"]= LabelEncoder().fit_transform(df[\"Product_Category\"])\n",
    "df[\"Warehouse\"]= LabelEncoder().fit_transform(df[\"Warehouse\"])\n",
    "df.head(5)"
   ]
  },
  {
   "cell_type": "code",
   "execution_count": 7,
   "id": "ce7d05b7",
   "metadata": {},
   "outputs": [],
   "source": [
    "y=df.iloc[:,3:4].values\n",
    "y2=pd.Series(y[:,0])\n",
    "y3=pd.to_numeric(y2, errors='coerce', downcast='integer')"
   ]
  },
  {
   "cell_type": "code",
   "execution_count": 8,
   "id": "d6afe13d",
   "metadata": {},
   "outputs": [],
   "source": [
    "df['Order_Demand']=y3.to_frame()\n",
    "df.dropna(inplace=True)\n",
    "y=df.iloc[:,3:4].values\n",
    "X=df.iloc[:,0:3].values"
   ]
  },
  {
   "cell_type": "code",
   "execution_count": 9,
   "id": "456da1e1",
   "metadata": {},
   "outputs": [],
   "source": [
    "import matplotlib.pyplot as plt"
   ]
  },
  {
   "cell_type": "code",
   "execution_count": 10,
   "id": "a0413154",
   "metadata": {},
   "outputs": [
    {
     "data": {
      "text/plain": [
       "<AxesSubplot:>"
      ]
     },
     "execution_count": 10,
     "metadata": {},
     "output_type": "execute_result"
    },
    {
     "data": {
      "image/png": "[encoded data removed]",
      "text/plain": [
       "<Figure size 720x432 with 2 Axes>"
      ]
     },
     "metadata": {
      "needs_background": "light"
     },
     "output_type": "display_data"
    }
   ],
   "source": [
    "import seaborn as sns\n",
    "\n",
    "plt.figure(figsize=(10,6))\n",
    "sns.heatmap(df.corr(), annot=True)"
   ]
  },
  {
   "cell_type": "code",
   "execution_count": 11,
   "id": "030d12bd",
   "metadata": {},
   "outputs": [],
   "source": [
    "from sklearn.preprocessing import StandardScaler\n",
    "scaler = StandardScaler()"
   ]
  },
  {
   "cell_type": "code",
   "execution_count": 13,
   "id": "98e37069",
   "metadata": {},
   "outputs": [
    {
     "data": {
      "text/plain": [
       "array([[-0.16699593],\n",
       "       [-0.15324808],\n",
       "       [-0.15324808],\n",
       "       ...,\n",
       "       [-0.08450883],\n",
       "       [-0.16871441],\n",
       "       [-0.17029541]])"
      ]
     },
     "execution_count": 13,
     "metadata": {},
     "output_type": "execute_result"
    }
   ],
   "source": [
    "y_normalized = scaler.fit_transform(y)\n",
    "y_normalized"
   ]
  },
  {
   "cell_type": "code",
   "execution_count": 14,
   "id": "16f9d482",
   "metadata": {},
   "outputs": [
    {
     "data": {
      "text/html": [
       "<div>\n",
       "<style scoped>\n",
       "    .dataframe tbody tr th:only-of-type {\n",
       "        vertical-align: middle;\n",
       "    }\n",
       "\n",
       "    .dataframe tbody tr th {\n",
       "        vertical-align: top;\n",
       "    }\n",
       "\n",
       "    .dataframe thead th {\n",
       "        text-align: right;\n",
       "    }\n",
       "</style>\n",
       "<table border=\"1\" class=\"dataframe\">\n",
       "  <thead>\n",
       "    <tr style=\"text-align: right;\">\n",
       "      <th></th>\n",
       "      <th>Product_Code</th>\n",
       "      <th>Warehouse</th>\n",
       "      <th>Product_Category</th>\n",
       "      <th>Order_Demand</th>\n",
       "    </tr>\n",
       "  </thead>\n",
       "  <tbody>\n",
       "    <tr>\n",
       "      <th>0</th>\n",
       "      <td>982</td>\n",
       "      <td>2</td>\n",
       "      <td>27</td>\n",
       "      <td>100.0</td>\n",
       "    </tr>\n",
       "    <tr>\n",
       "      <th>1</th>\n",
       "      <td>968</td>\n",
       "      <td>2</td>\n",
       "      <td>27</td>\n",
       "      <td>500.0</td>\n",
       "    </tr>\n",
       "    <tr>\n",
       "      <th>2</th>\n",
       "      <td>968</td>\n",
       "      <td>2</td>\n",
       "      <td>27</td>\n",
       "      <td>500.0</td>\n",
       "    </tr>\n",
       "    <tr>\n",
       "      <th>3</th>\n",
       "      <td>968</td>\n",
       "      <td>2</td>\n",
       "      <td>27</td>\n",
       "      <td>500.0</td>\n",
       "    </tr>\n",
       "    <tr>\n",
       "      <th>4</th>\n",
       "      <td>968</td>\n",
       "      <td>2</td>\n",
       "      <td>27</td>\n",
       "      <td>500.0</td>\n",
       "    </tr>\n",
       "  </tbody>\n",
       "</table>\n",
       "</div>"
      ],
      "text/plain": [
       "   Product_Code  Warehouse  Product_Category  Order_Demand\n",
       "0           982          2                27         100.0\n",
       "1           968          2                27         500.0\n",
       "2           968          2                27         500.0\n",
       "3           968          2                27         500.0\n",
       "4           968          2                27         500.0"
      ]
     },
     "execution_count": 14,
     "metadata": {},
     "output_type": "execute_result"
    }
   ],
   "source": [
    "df.head(5)"
   ]
  },
  {
   "cell_type": "markdown",
   "id": "ccda9279",
   "metadata": {},
   "source": [
    "# Split the Data\n",
    "Split your data as follows:\n",
    "80% training set\n",
    "10% validation set\n",
    "10% test set"
   ]
  },
  {
   "cell_type": "code",
   "execution_count": 15,
   "id": "6af4db61",
   "metadata": {},
   "outputs": [],
   "source": [
    "from sklearn.model_selection import train_test_split\n",
    "X_train, X_test, y_train, y_test = train_test_split(X, y_normalized, test_size = 0.2)\n",
    "X_validate, X_test, y_validate, y_test = train_test_split(X_test, y_test, test_size = 0.5)"
   ]
  },
  {
   "cell_type": "code",
   "execution_count": 16,
   "id": "b44b8932",
   "metadata": {},
   "outputs": [
    {
     "data": {
      "text/plain": [
       "array([[-0.15324808],\n",
       "       [-0.12575238],\n",
       "       [-0.16957365],\n",
       "       ...,\n",
       "       [ 0.58569888],\n",
       "       [-0.11028605],\n",
       "       [-0.160122  ]])"
      ]
     },
     "execution_count": 16,
     "metadata": {},
     "output_type": "execute_result"
    }
   ],
   "source": [
    "y_train"
   ]
  },
  {
   "cell_type": "code",
   "execution_count": 17,
   "id": "d68b54d9",
   "metadata": {},
   "outputs": [
    {
     "data": {
      "text/plain": [
       "-0.17043289262932246"
      ]
     },
     "execution_count": 17,
     "metadata": {},
     "output_type": "execute_result"
    }
   ],
   "source": [
    "import numpy as np\n",
    "np.min(y_normalized)"
   ]
  },
  {
   "cell_type": "markdown",
   "id": "157c5cbd",
   "metadata": {},
   "source": [
    "# Training K-Nearest Neighbor (KNN) Regression\n",
    "Use a KNN regressor model to train your data.\n",
    "Choose the best k for the KNN algorithm by trying different values and validating performance on the validation set.\n",
    "Regression Metrics\n",
    "Print the R-squared score of your final KNN regressor."
   ]
  },
  {
   "cell_type": "code",
   "execution_count": 18,
   "id": "fc5f8066",
   "metadata": {},
   "outputs": [
    {
     "data": {
      "text/plain": [
       "-0.12224543899026385"
      ]
     },
     "execution_count": 18,
     "metadata": {},
     "output_type": "execute_result"
    }
   ],
   "source": [
    "from sklearn.neighbors import KNeighborsRegressor\n",
    "model = KNeighborsRegressor(n_neighbors = 10).fit(X_train, y_train)\n",
    "score=model.score(X_test, y_test)\n",
    "score"
   ]
  },
  {
   "cell_type": "code",
   "execution_count": 19,
   "id": "85f74790",
   "metadata": {},
   "outputs": [],
   "source": [
    "y_pred = model.predict(X_test)"
   ]
  },
  {
   "cell_type": "code",
   "execution_count": 21,
   "id": "451068bf",
   "metadata": {},
   "outputs": [
    {
     "name": "stdout",
     "output_type": "stream",
     "text": [
      "[-0.99, -0.35, -0.2, -0.12, -0.05, -0.03, -0.02, -0.02, -0.0, -0.0]\n",
      "28\n"
     ]
    }
   ],
   "source": [
    "#choose best k \n",
    "scores= []\n",
    "results = 0\n",
    "best_score = -0.2\n",
    "neighbors=range(1,30, 3)\n",
    "\n",
    "for i in neighbors:\n",
    "    knn = KNeighborsRegressor(n_neighbors = i).fit(X_train, y_train)\n",
    "    results = knn.score(X_test, y_test)\n",
    "    scores.append(round(results,2))\n",
    "    \n",
    "    if results > best_score:\n",
    "        best_score = results\n",
    "        best_k = i\n",
    "        best_model = knn \n",
    "        \n",
    "print(scores)\n",
    "print(best_k)\n",
    "    "
   ]
  },
  {
   "cell_type": "code",
   "execution_count": 22,
   "id": "d21fab32",
   "metadata": {},
   "outputs": [
    {
     "data": {
      "text/plain": [
       "[<matplotlib.lines.Line2D at 0x23b24ad4460>]"
      ]
     },
     "execution_count": 22,
     "metadata": {},
     "output_type": "execute_result"
    },
    {
     "data": {
      "image/png": "[encoded data removed]",
      "text/plain": [
       "<Figure size 432x288 with 1 Axes>"
      ]
     },
     "metadata": {
      "needs_background": "light"
     },
     "output_type": "display_data"
    }
   ],
   "source": [
    "import matplotlib.pyplot as plt\n",
    "plt.plot(neighbors, scores)"
   ]
  },
  {
   "cell_type": "code",
   "execution_count": 23,
   "id": "45d60bf3",
   "metadata": {},
   "outputs": [
    {
     "name": "stdout",
     "output_type": "stream",
     "text": [
      "The best model has an accuracy of:  0.01\n"
     ]
    }
   ],
   "source": [
    "accuracy = best_model.score(X_validate, y_validate)\n",
    "print(\"The best model has an accuracy of: \", round(accuracy, 2))"
   ]
  },
  {
   "cell_type": "markdown",
   "id": "1703f9e0",
   "metadata": {},
   "source": [
    "# Challenge Yourself (Optional)\n",
    "Repeat step 6 for a different regression modelling technique."
   ]
  },
  {
   "cell_type": "code",
   "execution_count": 24,
   "id": "ecdcf8d9",
   "metadata": {},
   "outputs": [
    {
     "name": "stdout",
     "output_type": "stream",
     "text": [
      "0.003039438461796551\n"
     ]
    }
   ],
   "source": [
    "# Linear Regression\n",
    "from sklearn.linear_model import LinearRegression \n",
    "modelLR = LinearRegression().fit(X_train, y_train)\n",
    "score = modelLR.score(X_test, y_test)\n",
    "print(score)"
   ]
  },
  {
   "cell_type": "code",
   "execution_count": 25,
   "id": "7993833e",
   "metadata": {},
   "outputs": [
    {
     "name": "stdout",
     "output_type": "stream",
     "text": [
      "0.040289427340369666\n"
     ]
    }
   ],
   "source": [
    "#Random Forest Regressor\n",
    "from sklearn.ensemble import RandomForestRegressor\n",
    "modelRFR = RandomForestRegressor(criterion = \"squared_error\", max_leaf_nodes = 100).fit(X_train, y_train.ravel())\n",
    "score = modelRFR.score(X_test, y_test)\n",
    "y_pred = modelRFR.predict(X_test)\n",
    "\n",
    "print(score)"
   ]
  },
  {
   "cell_type": "code",
   "execution_count": 27,
   "id": "8686c57e",
   "metadata": {},
   "outputs": [
    {
     "name": "stdout",
     "output_type": "stream",
     "text": [
      "0.04394366993140497\n"
     ]
    }
   ],
   "source": [
    "#Decision Tree Regressor\n",
    "from sklearn.tree import DecisionTreeRegressor\n",
    "modelDTR = DecisionTreeRegressor(criterion = \"squared_error\").fit(X_train, y_train.ravel())\n",
    "score = modelDTR.score(X_test, y_test)\n",
    "y_pred = modelDTR.predict(X_test)\n",
    "\n",
    "print(score)"
   ]
  },
  {
   "cell_type": "markdown",
   "id": "53c7a4a6",
   "metadata": {},
   "source": [
    "# Submit on GitHub"
   ]
  }
 ],
 "metadata": {
  "kernelspec": {
   "display_name": "Python 3 (ipykernel)",
   "language": "python",
   "name": "python3"
  },
  "language_info": {
   "codemirror_mode": {
    "name": "ipython",
    "version": 3
   },
   "file_extension": ".py",
   "mimetype": "text/x-python",
   "name": "python",
   "nbconvert_exporter": "python",
   "pygments_lexer": "ipython3",
   "version": "3.10.0"
  }
 },
 "nbformat": 4,
 "nbformat_minor": 5
}
