{
 "cells": [
  {
   "cell_type": "markdown",
   "id": "d261c404",
   "metadata": {},
   "source": [
    "# DIGITS IDENTIFICATION \n",
    "## Essential Purpose\n",
    "Classification in Keras: using keras implementation of convolutional neural networks (CNNs) to classify digits in the MNIST dataset.\n",
    "\n",
    "In this mission, you will work on the MNIST dataset for digits to practice building a convolutional neural network (CNN) using Keras and using this convolutional neural network (CNN) for image classification.\n",
    "\n",
    "## Requirements\n",
    "To complete this mission, you should use an editor, such as Jupyter Notebook or Spyder, to follow the instructions. You will use a dataset with images of handwritten digits.\n",
    "\n",
    "The MNIST database is a large database of handwritten digits that is commonly used for training various image processing systems. The database is also widely used for training and testing in the field of machine learning.\n",
    "Submission of your project on GitHub is optional. If you choose to manage your project using GitHub, find guidelines for using GitHub here. Ensure you are coding using your Jupyter Notebook – it will be uploaded to GitHub when you perform a Git push operation.\n",
    "\n",
    "You will use a dataset with images of handwritten digits.\n",
    "\n",
    "You are expected to write around 25 lines of code to complete this project."
   ]
  },
  {
   "cell_type": "markdown",
   "id": "88c73c42",
   "metadata": {},
   "source": [
    "# 1. Load the MNIST Dataset"
   ]
  },
  {
   "cell_type": "code",
   "execution_count": 1,
   "id": "7c0245a9",
   "metadata": {},
   "outputs": [],
   "source": [
    "from keras.datasets import mnist\n",
    "(x_train, y_train), (x_test, y_test) = mnist.load_data()"
   ]
  },
  {
   "cell_type": "markdown",
   "id": "34c02be3",
   "metadata": {},
   "source": [
    "# 2. Visualize the Data\n",
    "\n",
    "To view the first training image, x_train[0], use the imshow() method from the matplotlib.pyplot module.\n",
    "The target output of this image is y_train[0], which is 5."
   ]
  },
  {
   "cell_type": "code",
   "execution_count": 2,
   "id": "6c0c642f",
   "metadata": {},
   "outputs": [
    {
     "data": {
      "text/plain": [
       "<matplotlib.image.AxesImage at 0x2c98942af50>"
      ]
     },
     "execution_count": 2,
     "metadata": {},
     "output_type": "execute_result"
    },
    {
     "data": {
      "image/png": "[encoded data removed]",
      "text/plain": [
       "<Figure size 432x288 with 1 Axes>"
      ]
     },
     "metadata": {
      "needs_background": "light"
     },
     "output_type": "display_data"
    }
   ],
   "source": [
    "import matplotlib.pyplot as plt\n",
    "%matplotlib inline\n",
    "plt.imshow(x_train[0], cmap='gray')"
   ]
  },
  {
   "cell_type": "markdown",
   "id": "4833359f",
   "metadata": {},
   "source": [
    "# 3. Prepare the Data for a Convolutional Neural Network (CNN) – Normalize the Data\n",
    "\n",
    "The Keras library expects the input to the convolutional neural network (CNN) to have four (4) dimensions, so you will add the fourth dimension as 1 using the reshape function.\n",
    "\n",
    "The first three (3) dimensions represent the number of samples, as well as the width and length of each sample, respectively.\n",
    "\n",
    "It is also better to normalize the input to be from 0 to 1, which is simple in this case. Grayscale images of MNIST contains pixels, and each pixel has a grayscale value from 0 to 255.\n",
    "\n",
    "You can divide the input by 255 (maximum value for grayscale colours) to normalize it (i.e., make the values between 0 and 1).\n"
   ]
  },
  {
   "cell_type": "code",
   "execution_count": 3,
   "id": "b3dae3fc",
   "metadata": {},
   "outputs": [],
   "source": [
    "x_train = x_train.reshape(60000, 28, 28, 1)/255\n",
    "x_test = x_test.reshape(10000, 28, 28, 1)/255"
   ]
  },
  {
   "cell_type": "markdown",
   "id": "9a489986",
   "metadata": {},
   "source": [
    "# Define Your Convolutional Neural Network\n",
    "\n",
    "Build the CNN with the following layers:\n",
    "    \n",
    "The input layer is a 2D convolutional layer with the following parameters:\n",
    "    \n",
    "28 units;\n",
    "\n",
    "convolution window size: 3 x 3; and\n",
    "    \n",
    "input size: 28x28.\n",
    "    \n",
    "Activation function: ReLU\n",
    "    \n",
    "The first hidden layer is a 2D max pooling layer with a pool size of 2x2.\n",
    "\n",
    "The second hidden layer is a flattening layer.\n",
    "\n",
    "The third hidden layer is a fully connected layer with:\n",
    "    \n",
    "128 units and\n",
    "\n",
    "activation function: ReLU\n",
    "    \n",
    "The output layer is a fully connected layer with:\n",
    "    \n",
    "10 units and\n",
    "\n",
    "activation function: softmax."
   ]
  },
  {
   "cell_type": "markdown",
   "id": "4d188483",
   "metadata": {},
   "source": [
    "# 1. Add the Input Convolutional Layer\n",
    "The input layer is a 2D convolutional layer with 28 outputs, and the convolution window size is 3x3. The activation function used is ReLU.\n",
    "\n",
    "To build the layer, use Convolution2D from the keras.layers library.\n"
   ]
  },
  {
   "cell_type": "code",
   "execution_count": 4,
   "id": "4222bc74",
   "metadata": {},
   "outputs": [],
   "source": [
    "import tensorflow as tf\n",
    "from tensorflow.keras import layers, models\n",
    "\n",
    "model = models.Sequential()\n",
    "\n",
    "from keras.layers import Conv2D\n",
    "model.add(Conv2D(28, (3, 3), input_shape=(28, 28, 1), activation='relu'))"
   ]
  },
  {
   "cell_type": "markdown",
   "id": "e32d81d1",
   "metadata": {},
   "source": [
    "# 2. Add a Pooling Layer\n",
    "The first hidden layer is a 2D max-pooling layer with a pool size of 2x2.\n",
    "\n",
    "To build this pooling layer, use MaxPooling2D from the keras.layers library with pool_size=(2,2)."
   ]
  },
  {
   "cell_type": "code",
   "execution_count": 5,
   "id": "64af51b2",
   "metadata": {},
   "outputs": [],
   "source": [
    "from keras.layers import MaxPooling2D\n",
    "model.add(MaxPooling2D(pool_size=(2, 2)))"
   ]
  },
  {
   "cell_type": "markdown",
   "id": "bd7bc027",
   "metadata": {},
   "source": [
    "# 3. Add a Flattening Layer\n",
    "The next hidden layer is a flattening layer. Use Flatten from the keras.layers library."
   ]
  },
  {
   "cell_type": "code",
   "execution_count": 6,
   "id": "c9292dce",
   "metadata": {},
   "outputs": [],
   "source": [
    "from keras.layers import Flatten\n",
    "model.add(Flatten())"
   ]
  },
  {
   "cell_type": "markdown",
   "id": "7aa15ef9",
   "metadata": {},
   "source": [
    "# 4. Add a Fully Connected Layer\n",
    "The next hidden layer is a fully connected layer with ReLU activation and 128 output units.\n"
   ]
  },
  {
   "cell_type": "code",
   "execution_count": 7,
   "id": "cbfcede3",
   "metadata": {},
   "outputs": [],
   "source": [
    "from keras.layers import Dense\n",
    "model.add(Dense(units=128, activation='relu'))"
   ]
  },
  {
   "cell_type": "markdown",
   "id": "f57185d9",
   "metadata": {},
   "source": [
    "# Choosing Hyperparameters\n",
    "Build the network using the following parameters:\n",
    "\n",
    "Optimizer: Adam\n",
    "\n",
    "Loss function: sparse_categorical_crossentropy\n",
    "\n",
    "Metrics: accuracy\n",
    "\n",
    "Epochs: 100\n"
   ]
  },
  {
   "cell_type": "markdown",
   "id": "d07283e3",
   "metadata": {},
   "source": [
    "# 5. Build the Convolutional Neural Network (CNN)\n",
    "Use model.compile to compile the convolutional neural network (CNN)."
   ]
  },
  {
   "cell_type": "code",
   "execution_count": 8,
   "id": "c37319b0",
   "metadata": {},
   "outputs": [],
   "source": [
    "model.compile(optimizer='adam', loss='sparse_categorical_crossentropy', metrics=['accuracy'])"
   ]
  },
  {
   "cell_type": "markdown",
   "id": "6b80dab7",
   "metadata": {},
   "source": [
    "# 6. Train the Convolutional Neural Network (CNN)\n",
    "Use model.fit to train the convolutional neural network (CNN) using x_train and y_train for 100 training epochs."
   ]
  },
  {
   "cell_type": "code",
   "execution_count": 9,
   "id": "19b1c683",
   "metadata": {},
   "outputs": [
    {
     "name": "stdout",
     "output_type": "stream",
     "text": [
      "Epoch 1/100\n",
      "1875/1875 [==============================] - 27s 14ms/step - loss: 4.8345 - accuracy: 0.1041\n",
      "Epoch 2/100\n",
      "1875/1875 [==============================] - 27s 14ms/step - loss: 4.8520 - accuracy: 0.0987\n",
      "Epoch 3/100\n",
      "1875/1875 [==============================] - 26s 14ms/step - loss: 4.8520 - accuracy: 0.0987\n",
      "Epoch 4/100\n",
      "1875/1875 [==============================] - 25s 14ms/step - loss: 4.8520 - accuracy: 0.0987\n",
      "Epoch 5/100\n",
      "1875/1875 [==============================] - 26s 14ms/step - loss: 4.8520 - accuracy: 0.0987\n",
      "Epoch 6/100\n",
      "1875/1875 [==============================] - 25s 13ms/step - loss: 4.8520 - accuracy: 0.0987\n",
      "Epoch 7/100\n",
      "1875/1875 [==============================] - 26s 14ms/step - loss: 4.8520 - accuracy: 0.0987\n",
      "Epoch 8/100\n",
      "1875/1875 [==============================] - 25s 13ms/step - loss: 4.8520 - accuracy: 0.0987\n",
      "Epoch 9/100\n",
      "1875/1875 [==============================] - 26s 14ms/step - loss: 4.8520 - accuracy: 0.0987\n",
      "Epoch 10/100\n",
      "1875/1875 [==============================] - 27s 14ms/step - loss: 4.8520 - accuracy: 0.0987\n",
      "Epoch 11/100\n",
      "1875/1875 [==============================] - 27s 15ms/step - loss: 4.8520 - accuracy: 0.0987\n",
      "Epoch 12/100\n",
      "1875/1875 [==============================] - 28s 15ms/step - loss: 4.8520 - accuracy: 0.0987\n",
      "Epoch 13/100\n",
      "1875/1875 [==============================] - 27s 14ms/step - loss: 4.8520 - accuracy: 0.0987\n",
      "Epoch 14/100\n",
      "1875/1875 [==============================] - 27s 15ms/step - loss: 4.8520 - accuracy: 0.0987\n",
      "Epoch 15/100\n",
      "1875/1875 [==============================] - 27s 14ms/step - loss: 4.8520 - accuracy: 0.0987\n",
      "Epoch 16/100\n",
      "1875/1875 [==============================] - 27s 14ms/step - loss: 4.8520 - accuracy: 0.0987\n",
      "Epoch 17/100\n",
      "1875/1875 [==============================] - 27s 14ms/step - loss: 4.8520 - accuracy: 0.0987\n",
      "Epoch 18/100\n",
      "1875/1875 [==============================] - 27s 14ms/step - loss: 4.8520 - accuracy: 0.0987\n",
      "Epoch 19/100\n",
      "1875/1875 [==============================] - 27s 14ms/step - loss: 4.8520 - accuracy: 0.0987\n",
      "Epoch 20/100\n",
      "1875/1875 [==============================] - 27s 14ms/step - loss: 4.8520 - accuracy: 0.0987\n",
      "Epoch 21/100\n",
      "1875/1875 [==============================] - 26s 14ms/step - loss: 4.8520 - accuracy: 0.0987\n",
      "Epoch 22/100\n",
      "1875/1875 [==============================] - 27s 14ms/step - loss: 4.8520 - accuracy: 0.0987\n",
      "Epoch 23/100\n",
      "1875/1875 [==============================] - 27s 15ms/step - loss: 4.8520 - accuracy: 0.0987\n",
      "Epoch 24/100\n",
      "1875/1875 [==============================] - 27s 15ms/step - loss: 4.8520 - accuracy: 0.0987\n",
      "Epoch 25/100\n",
      "1875/1875 [==============================] - 27s 15ms/step - loss: 4.8520 - accuracy: 0.0987\n",
      "Epoch 26/100\n",
      "1875/1875 [==============================] - 27s 15ms/step - loss: 4.8520 - accuracy: 0.0987\n",
      "Epoch 27/100\n",
      "1875/1875 [==============================] - 27s 14ms/step - loss: 4.8520 - accuracy: 0.0987\n",
      "Epoch 28/100\n",
      "1875/1875 [==============================] - 27s 15ms/step - loss: 4.8520 - accuracy: 0.0987\n",
      "Epoch 29/100\n",
      "1875/1875 [==============================] - 26s 14ms/step - loss: 4.8520 - accuracy: 0.0987\n",
      "Epoch 30/100\n",
      "1875/1875 [==============================] - 26s 14ms/step - loss: 4.8520 - accuracy: 0.0987\n",
      "Epoch 31/100\n",
      "1875/1875 [==============================] - 26s 14ms/step - loss: 4.8520 - accuracy: 0.0987\n",
      "Epoch 32/100\n",
      "1875/1875 [==============================] - 26s 14ms/step - loss: 4.8520 - accuracy: 0.0987\n",
      "Epoch 33/100\n",
      "1875/1875 [==============================] - 26s 14ms/step - loss: 4.8520 - accuracy: 0.0987\n",
      "Epoch 34/100\n",
      "1875/1875 [==============================] - 25s 13ms/step - loss: 4.8520 - accuracy: 0.0987\n",
      "Epoch 35/100\n",
      "1875/1875 [==============================] - 23s 12ms/step - loss: 4.8520 - accuracy: 0.0987\n",
      "Epoch 36/100\n",
      "1875/1875 [==============================] - 23s 12ms/step - loss: 4.8520 - accuracy: 0.0987\n",
      "Epoch 37/100\n",
      "1875/1875 [==============================] - 23s 12ms/step - loss: 4.8520 - accuracy: 0.0987\n",
      "Epoch 38/100\n",
      "1875/1875 [==============================] - 24s 13ms/step - loss: 4.8520 - accuracy: 0.0987\n",
      "Epoch 39/100\n",
      "1875/1875 [==============================] - 24s 13ms/step - loss: 4.8520 - accuracy: 0.0987\n",
      "Epoch 40/100\n",
      "1875/1875 [==============================] - 23s 12ms/step - loss: 4.8520 - accuracy: 0.0987\n",
      "Epoch 41/100\n",
      "1875/1875 [==============================] - 23s 12ms/step - loss: 4.8520 - accuracy: 0.0987\n",
      "Epoch 42/100\n",
      "1875/1875 [==============================] - 23s 12ms/step - loss: 4.8520 - accuracy: 0.0987\n",
      "Epoch 43/100\n",
      "1875/1875 [==============================] - 23s 12ms/step - loss: 4.8520 - accuracy: 0.0987\n",
      "Epoch 44/100\n",
      "1875/1875 [==============================] - 22s 12ms/step - loss: 4.8520 - accuracy: 0.0987\n",
      "Epoch 45/100\n",
      "1875/1875 [==============================] - 24s 13ms/step - loss: 4.8520 - accuracy: 0.0987\n",
      "Epoch 46/100\n",
      "1875/1875 [==============================] - 24s 13ms/step - loss: 4.8520 - accuracy: 0.0987\n",
      "Epoch 47/100\n",
      "1875/1875 [==============================] - 24s 13ms/step - loss: 4.8520 - accuracy: 0.0987\n",
      "Epoch 48/100\n",
      "1875/1875 [==============================] - 24s 13ms/step - loss: 4.8520 - accuracy: 0.0987\n",
      "Epoch 49/100\n",
      "1875/1875 [==============================] - 25s 13ms/step - loss: 4.8520 - accuracy: 0.0987\n",
      "Epoch 50/100\n",
      "1875/1875 [==============================] - 23s 13ms/step - loss: 4.8520 - accuracy: 0.0987\n",
      "Epoch 51/100\n",
      "1875/1875 [==============================] - 23s 13ms/step - loss: 4.8520 - accuracy: 0.0987\n",
      "Epoch 52/100\n",
      "1875/1875 [==============================] - 25s 13ms/step - loss: 4.8520 - accuracy: 0.0987\n",
      "Epoch 53/100\n",
      "1875/1875 [==============================] - 25s 13ms/step - loss: 4.8520 - accuracy: 0.0987\n",
      "Epoch 54/100\n",
      "1875/1875 [==============================] - 23s 12ms/step - loss: 4.8520 - accuracy: 0.0987\n",
      "Epoch 55/100\n",
      "1875/1875 [==============================] - 23s 12ms/step - loss: 4.8520 - accuracy: 0.0987\n",
      "Epoch 56/100\n",
      "1875/1875 [==============================] - 26s 14ms/step - loss: 4.8520 - accuracy: 0.0987\n",
      "Epoch 57/100\n",
      "1875/1875 [==============================] - 24s 13ms/step - loss: 4.8520 - accuracy: 0.0987\n",
      "Epoch 58/100\n",
      "1875/1875 [==============================] - 24s 13ms/step - loss: 4.8520 - accuracy: 0.0987\n",
      "Epoch 59/100\n",
      "1875/1875 [==============================] - 24s 13ms/step - loss: 4.8520 - accuracy: 0.0987\n",
      "Epoch 60/100\n",
      "1875/1875 [==============================] - 23s 12ms/step - loss: 4.8520 - accuracy: 0.0987\n",
      "Epoch 61/100\n",
      "1875/1875 [==============================] - 25s 13ms/step - loss: 4.8520 - accuracy: 0.0987\n",
      "Epoch 62/100\n",
      "1875/1875 [==============================] - 24s 13ms/step - loss: 4.8520 - accuracy: 0.0987\n",
      "Epoch 63/100\n",
      "1875/1875 [==============================] - 25s 13ms/step - loss: 4.8520 - accuracy: 0.0987\n",
      "Epoch 64/100\n",
      "1875/1875 [==============================] - 23s 12ms/step - loss: 4.8520 - accuracy: 0.0987\n",
      "Epoch 65/100\n",
      "1875/1875 [==============================] - 23s 12ms/step - loss: 4.8520 - accuracy: 0.0987\n",
      "Epoch 66/100\n",
      "1875/1875 [==============================] - 25s 13ms/step - loss: 4.8520 - accuracy: 0.0987\n",
      "Epoch 67/100\n",
      "1875/1875 [==============================] - 23s 12ms/step - loss: 4.8520 - accuracy: 0.0987\n",
      "Epoch 68/100\n",
      "1875/1875 [==============================] - 22s 12ms/step - loss: 4.8520 - accuracy: 0.0987\n",
      "Epoch 69/100\n",
      "1875/1875 [==============================] - 22s 12ms/step - loss: 4.8520 - accuracy: 0.0987\n",
      "Epoch 70/100\n",
      "1875/1875 [==============================] - 23s 12ms/step - loss: 4.8520 - accuracy: 0.0987\n",
      "Epoch 71/100\n",
      "1875/1875 [==============================] - 23s 12ms/step - loss: 4.8520 - accuracy: 0.0987\n",
      "Epoch 72/100\n",
      "1875/1875 [==============================] - 23s 12ms/step - loss: 4.8520 - accuracy: 0.0987\n",
      "Epoch 73/100\n",
      "1875/1875 [==============================] - 23s 12ms/step - loss: 4.8520 - accuracy: 0.0987\n",
      "Epoch 74/100\n",
      "1875/1875 [==============================] - 23s 12ms/step - loss: 4.8520 - accuracy: 0.0987\n",
      "Epoch 75/100\n",
      "1875/1875 [==============================] - 24s 13ms/step - loss: 4.8520 - accuracy: 0.0987\n",
      "Epoch 76/100\n",
      "1875/1875 [==============================] - 23s 13ms/step - loss: 4.8520 - accuracy: 0.0987\n",
      "Epoch 77/100\n",
      "1875/1875 [==============================] - 23s 12ms/step - loss: 4.8520 - accuracy: 0.0987\n",
      "Epoch 78/100\n"
     ]
    },
    {
     "name": "stdout",
     "output_type": "stream",
     "text": [
      "1875/1875 [==============================] - 23s 12ms/step - loss: 4.8520 - accuracy: 0.0987\n",
      "Epoch 79/100\n",
      "1875/1875 [==============================] - 23s 12ms/step - loss: 4.8520 - accuracy: 0.0987\n",
      "Epoch 80/100\n",
      "1875/1875 [==============================] - 22s 12ms/step - loss: 4.8520 - accuracy: 0.0987\n",
      "Epoch 81/100\n",
      "1875/1875 [==============================] - 23s 12ms/step - loss: 4.8520 - accuracy: 0.0987\n",
      "Epoch 82/100\n",
      "1875/1875 [==============================] - 22s 12ms/step - loss: 4.8520 - accuracy: 0.0987\n",
      "Epoch 83/100\n",
      "1875/1875 [==============================] - 23s 12ms/step - loss: 4.8520 - accuracy: 0.0987\n",
      "Epoch 84/100\n",
      "1875/1875 [==============================] - 23s 12ms/step - loss: 4.8520 - accuracy: 0.0987\n",
      "Epoch 85/100\n",
      "1875/1875 [==============================] - 23s 12ms/step - loss: 4.8520 - accuracy: 0.0987\n",
      "Epoch 86/100\n",
      "1875/1875 [==============================] - 23s 13ms/step - loss: 4.8520 - accuracy: 0.0987\n",
      "Epoch 87/100\n",
      "1875/1875 [==============================] - 23s 12ms/step - loss: 4.8520 - accuracy: 0.0987\n",
      "Epoch 88/100\n",
      "1875/1875 [==============================] - 23s 12ms/step - loss: 4.8520 - accuracy: 0.0987\n",
      "Epoch 89/100\n",
      "1875/1875 [==============================] - 24s 13ms/step - loss: 4.8520 - accuracy: 0.0987\n",
      "Epoch 90/100\n",
      "1875/1875 [==============================] - 23s 12ms/step - loss: 4.8520 - accuracy: 0.0987\n",
      "Epoch 91/100\n",
      "1875/1875 [==============================] - 23s 12ms/step - loss: 4.8520 - accuracy: 0.0987\n",
      "Epoch 92/100\n",
      "1875/1875 [==============================] - 23s 12ms/step - loss: 4.8520 - accuracy: 0.0987\n",
      "Epoch 93/100\n",
      "1875/1875 [==============================] - 23s 12ms/step - loss: 4.8520 - accuracy: 0.0987\n",
      "Epoch 94/100\n",
      "1875/1875 [==============================] - 23s 12ms/step - loss: 4.8520 - accuracy: 0.0987\n",
      "Epoch 95/100\n",
      "1875/1875 [==============================] - 23s 12ms/step - loss: 4.8520 - accuracy: 0.0987\n",
      "Epoch 96/100\n",
      "1875/1875 [==============================] - 23s 12ms/step - loss: 4.8520 - accuracy: 0.0987\n",
      "Epoch 97/100\n",
      "1875/1875 [==============================] - 23s 12ms/step - loss: 4.8520 - accuracy: 0.0987\n",
      "Epoch 98/100\n",
      "1875/1875 [==============================] - 23s 12ms/step - loss: 4.8520 - accuracy: 0.0987\n",
      "Epoch 99/100\n",
      "1875/1875 [==============================] - 22s 12ms/step - loss: 4.8520 - accuracy: 0.0987\n",
      "Epoch 100/100\n",
      "1875/1875 [==============================] - 24s 13ms/step - loss: 4.8520 - accuracy: 0.0987\n"
     ]
    },
    {
     "data": {
      "text/plain": [
       "<keras.callbacks.History at 0x2c9845fe0e0>"
      ]
     },
     "execution_count": 9,
     "metadata": {},
     "output_type": "execute_result"
    }
   ],
   "source": [
    "model.fit(x_train, y_train, epochs=100)"
   ]
  },
  {
   "cell_type": "markdown",
   "id": "3458f1d4",
   "metadata": {},
   "source": [
    "# Training Network\n",
    "Build the network using the following parameters:\n",
    "    \n",
    "Use Keras to implement the network described and train your data.\n",
    "\n",
    "Test the model using the test set (x_test and y_test).\n",
    "\n",
    "Note: your code should return the model and the test results (loss and accuracy)."
   ]
  },
  {
   "cell_type": "markdown",
   "id": "f66cbe8d",
   "metadata": {},
   "source": [
    "# 7. Test the Convolutional Neural Network (CNN)\n",
    "Test convolutional neural network (CNN) using model.evaluate applied to x_test and y_test.\n"
   ]
  },
  {
   "cell_type": "code",
   "execution_count": 10,
   "id": "d23f692d",
   "metadata": {},
   "outputs": [
    {
     "name": "stdout",
     "output_type": "stream",
     "text": [
      "313/313 [==============================] - 2s 4ms/step - loss: 4.8520 - accuracy: 0.0980\n"
     ]
    }
   ],
   "source": [
    "loss, accuracy = model.evaluate(x_test, y_test)"
   ]
  },
  {
   "cell_type": "code",
   "execution_count": 11,
   "id": "78d6ae51",
   "metadata": {},
   "outputs": [],
   "source": [
    "y_pred = model.predict(x_test)\n",
    "#y_pred = (y_pred > 0.5)"
   ]
  },
  {
   "cell_type": "code",
   "execution_count": 12,
   "id": "40c8b089",
   "metadata": {},
   "outputs": [
    {
     "data": {
      "text/plain": [
       "array([[0., 0., 0., ..., 0., 0., 0.],\n",
       "       [0., 0., 0., ..., 0., 0., 0.],\n",
       "       [0., 0., 0., ..., 0., 0., 0.],\n",
       "       ...,\n",
       "       [0., 0., 0., ..., 0., 0., 0.],\n",
       "       [0., 0., 0., ..., 0., 0., 0.],\n",
       "       [0., 0., 0., ..., 0., 0., 0.]], dtype=float32)"
      ]
     },
     "execution_count": 12,
     "metadata": {},
     "output_type": "execute_result"
    }
   ],
   "source": [
    "y_pred"
   ]
  },
  {
   "cell_type": "markdown",
   "id": "89d527eb",
   "metadata": {},
   "source": [
    "# Submit to GitHub"
   ]
  }
 ],
 "metadata": {
  "kernelspec": {
   "display_name": "Python 3 (ipykernel)",
   "language": "python",
   "name": "python3"
  },
  "language_info": {
   "codemirror_mode": {
    "name": "ipython",
    "version": 3
   },
   "file_extension": ".py",
   "mimetype": "text/x-python",
   "name": "python",
   "nbconvert_exporter": "python",
   "pygments_lexer": "ipython3",
   "version": "3.10.0"
  }
 },
 "nbformat": 4,
 "nbformat_minor": 5
}
