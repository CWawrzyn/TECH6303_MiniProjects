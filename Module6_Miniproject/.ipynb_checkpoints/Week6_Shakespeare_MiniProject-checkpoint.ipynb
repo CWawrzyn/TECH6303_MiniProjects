{
 "cells": [
  {
   "cell_type": "markdown",
   "id": "884fddb3",
   "metadata": {},
   "source": [
    "# Shakespeare\n",
    "\n",
    "# Essential Purpose\n",
    "\n",
    "Language modelling: using Keras implementation of recurrent neural networks (RNNs) for building a simple language model for natural language processing (NLP).\n",
    "\n",
    "In this mission, you will work on Shakespeare text data to make your own language model using RNNs.\n",
    "\n",
    "# Requirements\n",
    "\n",
    "In this mission, you will use a text from Shakespeare (Shakespeare’s first sonnet) to train a recurrent neural network (RNN) for language modelling. You can use any editor, such as Jupyter Notebook or Spyder, to complete this mission in your computer.\n",
    "\n",
    "Write code that uses the Keras library to build, train, and test an RNN with the architecture described.\n",
    "\n",
    "Submission of your project on GitHub is optional. If you choose to manage your project using GitHub, find guidelines for using GitHub here. Ensure you are coding using your Jupyter Notebook – it will be uploaded to GitHub when you perform a Git push operation.\n",
    "\n",
    "You are expected to write around 25 lines of code to complete this project."
   ]
  },
  {
   "cell_type": "code",
   "execution_count": 1,
   "id": "05ce348a",
   "metadata": {},
   "outputs": [],
   "source": [
    "# 1. Read the text file (the poem is Shakespeare’s first sonnet from the “Fair Youth” sequence).\n",
    "# Read the file into a string. In this section, you will use the following command:\n",
    "\n",
    "with open('alllines_start.txt', 'r') as file:\n",
    "    text = file.read()\n",
    "    lines = text.lower().split('\\n')"
   ]
  },
  {
   "cell_type": "code",
   "execution_count": 2,
   "id": "b5044bbc",
   "metadata": {},
   "outputs": [],
   "source": [
    "#Define words, vocabulary size and sequences of words as lines\n",
    "from keras.preprocessing.text import text_to_word_sequence, Tokenizer\n",
    "words = text_to_word_sequence(text)\n",
    "tokenizer = Tokenizer()\n",
    "tokenizer.fit_on_texts(words)\n",
    "vocabulary_size = len(tokenizer.word_index) + 1\n",
    "sequences = tokenizer.texts_to_sequences(lines)\n",
    "\n",
    "#Find subsequences \n",
    "subsequences = []\n",
    "for sequence in sequences:\n",
    "    for i in range(1, len(sequence)):\n",
    "        subsequence = sequence[:i+1]\n",
    "        subsequences.append(subsequence)"
   ]
  },
  {
   "cell_type": "code",
   "execution_count": 3,
   "id": "547501dc",
   "metadata": {},
   "outputs": [],
   "source": [
    "# padding sequences\n",
    "\n",
    "from keras.preprocessing.sequence import pad_sequences\n",
    "sequence_length = max([len(sequence) for sequence in sequences])\n",
    "sequences = pad_sequences(subsequences, maxlen=sequence_length, padding='pre')      "
   ]
  },
  {
   "cell_type": "code",
   "execution_count": 4,
   "id": "edfa8aec",
   "metadata": {},
   "outputs": [],
   "source": [
    "# encode the target labels\n",
    "\n",
    "from tensorflow.keras.utils import to_categorical\n",
    "x, y = sequences[:,:-1],sequences[:,-1]\n",
    "y = to_categorical(y, num_classes=vocabulary_size)"
   ]
  },
  {
   "cell_type": "code",
   "execution_count": 5,
   "id": "493ccb50",
   "metadata": {},
   "outputs": [
    {
     "data": {
      "text/plain": [
       "(1789, 15)"
      ]
     },
     "execution_count": 5,
     "metadata": {},
     "output_type": "execute_result"
    }
   ],
   "source": [
    "import numpy as np\n",
    "np.shape(x)"
   ]
  },
  {
   "cell_type": "code",
   "execution_count": 6,
   "id": "4ea828b9",
   "metadata": {},
   "outputs": [
    {
     "data": {
      "text/plain": [
       "144"
      ]
     },
     "execution_count": 6,
     "metadata": {},
     "output_type": "execute_result"
    }
   ],
   "source": [
    "x[1,14]"
   ]
  },
  {
   "cell_type": "markdown",
   "id": "b4837c7d",
   "metadata": {},
   "source": [
    "Define an RNN with the following layers:\n",
    "\n",
    "An embedding layer with the following parameters:\n",
    "\n",
    "The input dimension is vocabulary_size\n",
    "\n",
    "The output dimension is 100\n",
    "\n",
    "The input length is sequence_length - 1\n",
    "\n",
    "An LSTM layer with 100 units\n",
    "\n",
    "A dropout layer with a dropout rate of 10%\n",
    "\n",
    "A dense layer with the following parameters:\n",
    "\n",
    "Activation function is softmax\n",
    "\n",
    "The number of units is vocabulary_size"
   ]
  },
  {
   "cell_type": "code",
   "execution_count": 7,
   "id": "d70cd2e7",
   "metadata": {},
   "outputs": [],
   "source": [
    "from tensorflow.keras.models import Sequential\n",
    "model = Sequential()\n",
    "\n",
    "from tensorflow.keras.layers import Embedding\n",
    "model.add(Embedding(vocabulary_size, 100, input_length=sequence_length - 1))\n",
    "\n",
    "from tensorflow.keras.layers import LSTM\n",
    "model.add(LSTM(100))\n",
    "\n",
    "from tensorflow.keras.layers import Dropout\n",
    "model.add(Dropout(0.1))\n",
    "\n",
    "from tensorflow.keras.layers import Dense\n",
    "model.add(Dense(units=vocabulary_size, activation='softmax'))"
   ]
  },
  {
   "cell_type": "code",
   "execution_count": 8,
   "id": "32929717",
   "metadata": {},
   "outputs": [
    {
     "name": "stdout",
     "output_type": "stream",
     "text": [
      "Model: \"sequential\"\n",
      "_________________________________________________________________\n",
      " Layer (type)                Output Shape              Param #   \n",
      "=================================================================\n",
      " embedding (Embedding)       (None, 15, 100)           76500     \n",
      "                                                                 \n",
      " lstm (LSTM)                 (None, 100)               80400     \n",
      "                                                                 \n",
      " dropout (Dropout)           (None, 100)               0         \n",
      "                                                                 \n",
      " dense (Dense)               (None, 765)               77265     \n",
      "                                                                 \n",
      "=================================================================\n",
      "Total params: 234,165\n",
      "Trainable params: 234,165\n",
      "Non-trainable params: 0\n",
      "_________________________________________________________________\n"
     ]
    }
   ],
   "source": [
    "model.summary()"
   ]
  },
  {
   "cell_type": "code",
   "execution_count": 9,
   "id": "f1b649b6",
   "metadata": {},
   "outputs": [],
   "source": [
    "# build the model - choose hyperparameters\n",
    "model.compile(optimizer='adam', loss='categorical_crossentropy', metrics=['accuracy'])"
   ]
  },
  {
   "cell_type": "code",
   "execution_count": 10,
   "id": "a0c8c7cd",
   "metadata": {},
   "outputs": [
    {
     "name": "stdout",
     "output_type": "stream",
     "text": [
      "Epoch 1/10\n",
      "56/56 [==============================] - 5s 20ms/step - loss: 6.3540 - accuracy: 0.0419\n",
      "Epoch 2/10\n",
      "56/56 [==============================] - 1s 20ms/step - loss: 5.8947 - accuracy: 0.0492\n",
      "Epoch 3/10\n",
      "56/56 [==============================] - 1s 17ms/step - loss: 5.8310 - accuracy: 0.0375\n",
      "Epoch 4/10\n",
      "56/56 [==============================] - 1s 21ms/step - loss: 5.7513 - accuracy: 0.0458\n",
      "Epoch 5/10\n",
      "56/56 [==============================] - 1s 15ms/step - loss: 5.6610 - accuracy: 0.0576\n",
      "Epoch 6/10\n",
      "56/56 [==============================] - 1s 17ms/step - loss: 5.5723 - accuracy: 0.0704\n",
      "Epoch 7/10\n",
      "56/56 [==============================] - 1s 19ms/step - loss: 5.4980 - accuracy: 0.0727\n",
      "Epoch 8/10\n",
      "56/56 [==============================] - 1s 17ms/step - loss: 5.4148 - accuracy: 0.0760\n",
      "Epoch 9/10\n",
      "56/56 [==============================] - 1s 13ms/step - loss: 5.3313 - accuracy: 0.0805\n",
      "Epoch 10/10\n",
      "56/56 [==============================] - 1s 16ms/step - loss: 5.2484 - accuracy: 0.0861\n"
     ]
    },
    {
     "data": {
      "text/plain": [
       "<keras.callbacks.History at 0x1ef0bd2aef0>"
      ]
     },
     "execution_count": 10,
     "metadata": {},
     "output_type": "execute_result"
    }
   ],
   "source": [
    "model.fit(x, y, epochs=10)"
   ]
  },
  {
   "cell_type": "code",
   "execution_count": 11,
   "id": "c505c3da",
   "metadata": {},
   "outputs": [
    {
     "data": {
      "image/png": "[encoded data removed]",
      "text/plain": [
       "<Figure size 864x576 with 2 Axes>"
      ]
     },
     "metadata": {
      "needs_background": "light"
     },
     "output_type": "display_data"
    },
    {
     "name": "stdout",
     "output_type": "stream",
     "text": [
      "accuracy\n",
      "\taccuracy         \t (min:    0.088, max:    0.128, cur:    0.128)\n",
      "Loss\n",
      "\tloss             \t (min:    4.765, max:    5.154, cur:    4.765)\n",
      "\b\b\b\b\b\b\b\b\b\b\b\b\b\b\b\b\b\b\b\b\b\b\b\b\b\b\b\b\b\b\b\b\b\b\b\b\b\b\b\b\b\b\b\b\b\b\b\b\b\b\b\b\b\b\b\b\b\b\b\b\b\b\b\b\b\b\b\b\b\b\b\b\b\b\b\b\b\b\b\b\b\b\r",
      "56/56 [==============================] - 3s 50ms/step - loss: 4.7655 - accuracy: 0.1280\n"
     ]
    },
    {
     "data": {
      "text/plain": [
       "<keras.callbacks.History at 0x1ef0c5757e0>"
      ]
     },
     "execution_count": 11,
     "metadata": {},
     "output_type": "execute_result"
    }
   ],
   "source": [
    "from livelossplot import PlotLossesKeras\n",
    "model.fit(x,y,\n",
    "         callbacks = [PlotLossesKeras()],\n",
    "         epochs = 5)"
   ]
  },
  {
   "cell_type": "code",
   "execution_count": 12,
   "id": "a5cc2973",
   "metadata": {},
   "outputs": [
    {
     "name": "stdout",
     "output_type": "stream",
     "text": [
      "accuracy = 14.141978323459625\n"
     ]
    }
   ],
   "source": [
    "scores = model.evaluate(x,y,verbose=0)\n",
    "print(f\"{model.metrics_names[1]} = {scores[1]*100}\")"
   ]
  },
  {
   "cell_type": "code",
   "execution_count": null,
   "id": "134c51ee",
   "metadata": {},
   "outputs": [],
   "source": [
    "\n"
   ]
  }
 ],
 "metadata": {
  "kernelspec": {
   "display_name": "Python 3 (ipykernel)",
   "language": "python",
   "name": "python3"
  },
  "language_info": {
   "codemirror_mode": {
    "name": "ipython",
    "version": 3
   },
   "file_extension": ".py",
   "mimetype": "text/x-python",
   "name": "python",
   "nbconvert_exporter": "python",
   "pygments_lexer": "ipython3",
   "version": "3.10.0"
  }
 },
 "nbformat": 4,
 "nbformat_minor": 5
}
