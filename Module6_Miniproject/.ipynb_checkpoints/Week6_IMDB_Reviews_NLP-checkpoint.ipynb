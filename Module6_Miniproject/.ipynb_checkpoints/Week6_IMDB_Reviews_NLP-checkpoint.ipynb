{
 "cells": [
  {
   "cell_type": "markdown",
   "id": "1ef0dd73",
   "metadata": {},
   "source": [
    "# Essential Purpose\n",
    "Simple sentiment analysis: using Keras implementation of recurrent neural networks (RNNs) to predict the sentiment for different IMDB reviews.\n",
    "\n",
    "## Requirements\n",
    "In this mission, you will use an RNN-based classifier to predict the sentiment of an IMDB movie reviews dataset.\n",
    "Write code that uses the Keras library to build, train, and test an RNN with the architecture described.\n",
    "Submission of your project on GitHub is optional. If you choose to manage your project using GitHub, find guidelines for using GitHub here. Ensure you are coding using your Jupyter Notebook – it will be uploaded to GitHub when you perform a Git push operation.\n",
    "\n",
    "You are expected to write around 25 lines of code to complete this project.\n"
   ]
  },
  {
   "cell_type": "code",
   "execution_count": 1,
   "id": "9892c9d2",
   "metadata": {},
   "outputs": [],
   "source": [
    "# read the dataset \n",
    "\n",
    "from keras.datasets import imdb\n",
    "\n",
    "(x_train, y_train), (x_test, y_test) = imdb.load_data(path=\"imdb.npz\", maxlen=130, num_words=6000)   "
   ]
  },
  {
   "cell_type": "code",
   "execution_count": 2,
   "id": "8e7f9635",
   "metadata": {},
   "outputs": [],
   "source": [
    "# padding the sequence\n",
    "from keras.preprocessing import sequence\n",
    "\n",
    "x_train = sequence.pad_sequences(x_train, maxlen=130)    "
   ]
  },
  {
   "cell_type": "code",
   "execution_count": 3,
   "id": "8bf1c6eb",
   "metadata": {},
   "outputs": [],
   "source": [
    "import numpy as np\n",
    "\n",
    "np_load_old = np.load\n",
    "\n",
    "np.load = lambda *a,**k: np_load_old(*a, allow_pickle=True, **k)\n",
    "\n",
    "#from keras.datasets import imdb\n",
    "\n",
    "#(x_train, y_train), (x_test, y_test) = imdb.load_data(path=\"imdb.npz\", maxlen=130, num_words=6000)\n",
    "\n",
    "from keras.preprocessing import sequence\n",
    "\n",
    "x_train = sequence.pad_sequences(x_train, maxlen=130)\n",
    "\n",
    "np.load = np_load_old"
   ]
  },
  {
   "cell_type": "code",
   "execution_count": 15,
   "id": "9f75a0d6",
   "metadata": {},
   "outputs": [
    {
     "data": {
      "text/plain": [
       "(6169,)"
      ]
     },
     "execution_count": 15,
     "metadata": {},
     "output_type": "execute_result"
    }
   ],
   "source": [
    "np.shape(y_train)"
   ]
  },
  {
   "cell_type": "markdown",
   "id": "344f4d3c",
   "metadata": {},
   "source": [
    "## Define an RNN with the following layers:\n",
    "An embedding layer with the following parameters:\n",
    "\n",
    "The input dimension is 6000.\n",
    "\n",
    "The output dimension is 128.\n",
    "\n",
    "The input length is 130.\n",
    "\n",
    "An LSTM layer with 32 units.\n",
    "\n",
    "A fully connected layer with the following parameters:\n",
    "\n",
    "Activation function is ReLU.\n",
    "\n",
    "The number of units is 20.\n",
    "\n",
    "A dropout layer with a dropout rate of 5%.\n",
    "\n",
    "A fully connected layer with the following parameters:\n",
    "\n",
    "Activation function is sigmoid.\n",
    "\n",
    "The number of units is 1."
   ]
  },
  {
   "cell_type": "code",
   "execution_count": 4,
   "id": "63c39aea",
   "metadata": {},
   "outputs": [],
   "source": [
    "from tensorflow.keras.models import Sequential\n",
    "model = Sequential()\n",
    "\n",
    "from tensorflow.keras.layers import Embedding\n",
    "model.add(Embedding(input_length=130, input_dim=6000, output_dim=128))\n",
    "\n",
    "from tensorflow.keras.layers import LSTM\n",
    "model.add(LSTM(32))\n",
    "\n",
    "from tensorflow.keras.layers import Dense\n",
    "model.add(Dense(units=20, activation='relu'))\n",
    "\n",
    "from tensorflow.keras.layers import Dropout\n",
    "model.add(Dropout(0.05))\n",
    "\n",
    "model.add(Dense(units=1, activation='sigmoid'))"
   ]
  },
  {
   "cell_type": "code",
   "execution_count": 5,
   "id": "bfe72450",
   "metadata": {},
   "outputs": [
    {
     "name": "stdout",
     "output_type": "stream",
     "text": [
      "Model: \"sequential\"\n",
      "_________________________________________________________________\n",
      " Layer (type)                Output Shape              Param #   \n",
      "=================================================================\n",
      " embedding (Embedding)       (None, 130, 128)          768000    \n",
      "                                                                 \n",
      " lstm (LSTM)                 (None, 32)                20608     \n",
      "                                                                 \n",
      " dense (Dense)               (None, 20)                660       \n",
      "                                                                 \n",
      " dropout (Dropout)           (None, 20)                0         \n",
      "                                                                 \n",
      " dense_1 (Dense)             (None, 1)                 21        \n",
      "                                                                 \n",
      "=================================================================\n",
      "Total params: 789,289\n",
      "Trainable params: 789,289\n",
      "Non-trainable params: 0\n",
      "_________________________________________________________________\n"
     ]
    }
   ],
   "source": [
    "model.summary()"
   ]
  },
  {
   "cell_type": "markdown",
   "id": "a6e508c6",
   "metadata": {},
   "source": [
    "## Choosing Hyperparameters\n",
    "Build the network using the following parameters:\n",
    "\n",
    "Optimizer: Adam\n",
    "\n",
    "Loss function: binary_crossentropy\n",
    "\n",
    "Metrics: accuracy\n",
    "\n",
    "Epochs: 5\n",
    "\n",
    "Batch size: 100"
   ]
  },
  {
   "cell_type": "code",
   "execution_count": 6,
   "id": "7b00004c",
   "metadata": {},
   "outputs": [],
   "source": [
    "model.compile(optimizer='adam', loss='binary_crossentropy', metrics=['accuracy'])"
   ]
  },
  {
   "cell_type": "code",
   "execution_count": 8,
   "id": "1a096a88",
   "metadata": {},
   "outputs": [
    {
     "name": "stdout",
     "output_type": "stream",
     "text": [
      "Epoch 1/5\n",
      "62/62 [==============================] - 11s 123ms/step - loss: 0.6044 - accuracy: 0.6836\n",
      "Epoch 2/5\n",
      "62/62 [==============================] - 7s 119ms/step - loss: 0.2787 - accuracy: 0.8911\n",
      "Epoch 3/5\n",
      "62/62 [==============================] - 8s 129ms/step - loss: 0.1553 - accuracy: 0.9481\n",
      "Epoch 4/5\n",
      "62/62 [==============================] - 8s 126ms/step - loss: 0.0936 - accuracy: 0.9705\n",
      "Epoch 5/5\n",
      "62/62 [==============================] - 8s 122ms/step - loss: 0.0656 - accuracy: 0.9809\n"
     ]
    },
    {
     "data": {
      "text/plain": [
       "<keras.callbacks.History at 0x184599cf9d0>"
      ]
     },
     "execution_count": 8,
     "metadata": {},
     "output_type": "execute_result"
    }
   ],
   "source": [
    "model.fit(x_train, y_train, batch_size=100, epochs=5)"
   ]
  },
  {
   "cell_type": "code",
   "execution_count": 11,
   "id": "b7f3d423",
   "metadata": {},
   "outputs": [
    {
     "data": {
      "image/png": "[encoded data removed]",
      "text/plain": [
       "<Figure size 864x576 with 2 Axes>"
      ]
     },
     "metadata": {
      "needs_background": "light"
     },
     "output_type": "display_data"
    },
    {
     "name": "stdout",
     "output_type": "stream",
     "text": [
      "accuracy\n",
      "\taccuracy         \t (min:    0.972, max:    1.000, cur:    1.000)\n",
      "Loss\n",
      "\tloss             \t (min:    0.003, max:    0.081, cur:    0.003)\n",
      "\b\b\b\b\b\b\b\b\b\b\b\b\b\b\b\b\b\b\b\b\b\b\b\b\b\b\b\b\b\b\b\b\b\b\b\b\b\b\b\b\b\b\b\b\b\b\b\b\b\b\b\b\b\b\b\b\b\b\b\b\b\b\b\b\b\b\b\b\b\b\b\b\b\b\b\b\b\b\b\b\b\b\r",
      "62/62 [==============================] - 8s 133ms/step - loss: 0.0031 - accuracy: 0.9997\n"
     ]
    },
    {
     "data": {
      "text/plain": [
       "<keras.callbacks.History at 0x18457507a60>"
      ]
     },
     "execution_count": 11,
     "metadata": {},
     "output_type": "execute_result"
    }
   ],
   "source": [
    "from livelossplot import PlotLossesKeras\n",
    "model.fit(x_train,y_train,\n",
    "         callbacks = [PlotLossesKeras()], batch_size=100,\n",
    "         epochs = 5)"
   ]
  },
  {
   "cell_type": "markdown",
   "id": "bd91410f",
   "metadata": {},
   "source": [
    "# Submit on github"
   ]
  }
 ],
 "metadata": {
  "kernelspec": {
   "display_name": "Python 3 (ipykernel)",
   "language": "python",
   "name": "python3"
  },
  "language_info": {
   "codemirror_mode": {
    "name": "ipython",
    "version": 3
   },
   "file_extension": ".py",
   "mimetype": "text/x-python",
   "name": "python",
   "nbconvert_exporter": "python",
   "pygments_lexer": "ipython3",
   "version": "3.10.0"
  }
 },
 "nbformat": 4,
 "nbformat_minor": 5
}
