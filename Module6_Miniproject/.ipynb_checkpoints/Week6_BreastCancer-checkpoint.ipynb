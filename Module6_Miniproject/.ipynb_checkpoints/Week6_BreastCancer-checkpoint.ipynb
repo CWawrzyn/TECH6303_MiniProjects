{
 "cells": [
  {
   "cell_type": "markdown",
   "id": "3e741e5d",
   "metadata": {},
   "source": [
    "# Breast Cancer Campaign\n",
    "\n",
    "An expert has seen your previous work on the campaign for breast cancer and the regression modeling on the insurance dataset. He claims that better Experience Points (XPs) could have been scored using artificial neural networks.\n",
    "You are required to:\n",
    "\n",
    "implement classification on the Breast Cancer Dataset using neural networks and\n",
    "implement regression modeling on the Insurance Dataset using neural networks.\n",
    "Submission of your project on GitHub is optional. If you choose to manage your project using GitHub, find guidelines for using GitHub here. Ensure you are coding using your Jupyter Notebook – it will be uploaded to GitHub when you perform a Git push operation.\n",
    "\n",
    "Essential Purpose\n",
    "\n",
    "Skills tested: using Pandas to read and explore the dataset. Classification using Keras.\n",
    "Regression using Keras.\n",
    "\n",
    "You are expected to write around 35 lines of code."
   ]
  },
  {
   "cell_type": "code",
   "execution_count": 1,
   "id": "b85b172c",
   "metadata": {},
   "outputs": [],
   "source": [
    "import pandas as pd\n",
    "import numpy as np\n",
    "import matplotlib.pyplot as plt\n",
    "\n",
    "from sklearn.preprocessing import LabelEncoder\n",
    "from sklearn.preprocessing import StandardScaler \n",
    "from sklearn.model_selection import train_test_split \n",
    "\n",
    "from sklearn.neural_network import MLPRegressor\n",
    "from sklearn.metrics import confusion_matrix\n",
    "from sklearn.metrics import r2_score\n",
    "\n",
    "from keras.models import Sequential\n",
    "from keras.layers import Dense\n",
    "from keras.layers import Dropout\n",
    "\n"
   ]
  },
  {
   "cell_type": "markdown",
   "id": "24ea142f",
   "metadata": {},
   "source": [
    "# Reading the Dataset\n",
    "Load the previously pre-processed Breast Cancer dataset saved in the CSV file “data_refined.csv” into a Pandas DataFrame."
   ]
  },
  {
   "cell_type": "code",
   "execution_count": 2,
   "id": "6c7d10d9",
   "metadata": {},
   "outputs": [
    {
     "data": {
      "text/html": [
       "<div>\n",
       "<style scoped>\n",
       "    .dataframe tbody tr th:only-of-type {\n",
       "        vertical-align: middle;\n",
       "    }\n",
       "\n",
       "    .dataframe tbody tr th {\n",
       "        vertical-align: top;\n",
       "    }\n",
       "\n",
       "    .dataframe thead th {\n",
       "        text-align: right;\n",
       "    }\n",
       "</style>\n",
       "<table border=\"1\" class=\"dataframe\">\n",
       "  <thead>\n",
       "    <tr style=\"text-align: right;\">\n",
       "      <th></th>\n",
       "      <th>diagnosis</th>\n",
       "      <th>radius_mean</th>\n",
       "      <th>texture_mean</th>\n",
       "      <th>smoothness_mean</th>\n",
       "      <th>compactness_mean</th>\n",
       "      <th>concavity_mean</th>\n",
       "      <th>concave_points_mean</th>\n",
       "      <th>symmetry_mean</th>\n",
       "      <th>fractal_dimension_mean</th>\n",
       "      <th>radius_se</th>\n",
       "      <th>...</th>\n",
       "      <th>concave_points_se</th>\n",
       "      <th>symmetry_se</th>\n",
       "      <th>fractal_dimension_se</th>\n",
       "      <th>texture_worst</th>\n",
       "      <th>smoothness_worst</th>\n",
       "      <th>compactness_worst</th>\n",
       "      <th>concavity_worst</th>\n",
       "      <th>concave_points_worst</th>\n",
       "      <th>symmetry_worst</th>\n",
       "      <th>fractal_dimension_worst</th>\n",
       "    </tr>\n",
       "  </thead>\n",
       "  <tbody>\n",
       "    <tr>\n",
       "      <th>0</th>\n",
       "      <td>1</td>\n",
       "      <td>1.097064</td>\n",
       "      <td>-2.073335</td>\n",
       "      <td>1.568466</td>\n",
       "      <td>3.283515</td>\n",
       "      <td>2.652874</td>\n",
       "      <td>2.532475</td>\n",
       "      <td>2.217515</td>\n",
       "      <td>2.255747</td>\n",
       "      <td>2.489734</td>\n",
       "      <td>...</td>\n",
       "      <td>0.660820</td>\n",
       "      <td>1.148757</td>\n",
       "      <td>0.907083</td>\n",
       "      <td>-1.359293</td>\n",
       "      <td>1.307686</td>\n",
       "      <td>2.616665</td>\n",
       "      <td>2.109526</td>\n",
       "      <td>2.296076</td>\n",
       "      <td>2.750622</td>\n",
       "      <td>1.937015</td>\n",
       "    </tr>\n",
       "    <tr>\n",
       "      <th>1</th>\n",
       "      <td>1</td>\n",
       "      <td>1.829821</td>\n",
       "      <td>-0.353632</td>\n",
       "      <td>-0.826962</td>\n",
       "      <td>-0.487072</td>\n",
       "      <td>-0.023846</td>\n",
       "      <td>0.548144</td>\n",
       "      <td>0.001392</td>\n",
       "      <td>-0.868652</td>\n",
       "      <td>0.499255</td>\n",
       "      <td>...</td>\n",
       "      <td>0.260162</td>\n",
       "      <td>-0.805450</td>\n",
       "      <td>-0.099444</td>\n",
       "      <td>-0.369203</td>\n",
       "      <td>-0.375612</td>\n",
       "      <td>-0.430444</td>\n",
       "      <td>-0.146749</td>\n",
       "      <td>1.087084</td>\n",
       "      <td>-0.243890</td>\n",
       "      <td>0.281190</td>\n",
       "    </tr>\n",
       "    <tr>\n",
       "      <th>2</th>\n",
       "      <td>1</td>\n",
       "      <td>1.579888</td>\n",
       "      <td>0.456187</td>\n",
       "      <td>0.942210</td>\n",
       "      <td>1.052926</td>\n",
       "      <td>1.363478</td>\n",
       "      <td>2.037231</td>\n",
       "      <td>0.939685</td>\n",
       "      <td>-0.398008</td>\n",
       "      <td>1.228676</td>\n",
       "      <td>...</td>\n",
       "      <td>1.424827</td>\n",
       "      <td>0.237036</td>\n",
       "      <td>0.293559</td>\n",
       "      <td>-0.023974</td>\n",
       "      <td>0.527407</td>\n",
       "      <td>1.082932</td>\n",
       "      <td>0.854974</td>\n",
       "      <td>1.955000</td>\n",
       "      <td>1.152255</td>\n",
       "      <td>0.201391</td>\n",
       "    </tr>\n",
       "    <tr>\n",
       "      <th>3</th>\n",
       "      <td>1</td>\n",
       "      <td>-0.768909</td>\n",
       "      <td>0.253732</td>\n",
       "      <td>3.283553</td>\n",
       "      <td>3.402909</td>\n",
       "      <td>1.915897</td>\n",
       "      <td>1.451707</td>\n",
       "      <td>2.867383</td>\n",
       "      <td>4.910919</td>\n",
       "      <td>0.326373</td>\n",
       "      <td>...</td>\n",
       "      <td>1.115007</td>\n",
       "      <td>4.732680</td>\n",
       "      <td>2.047511</td>\n",
       "      <td>0.133984</td>\n",
       "      <td>3.394275</td>\n",
       "      <td>3.893397</td>\n",
       "      <td>1.989588</td>\n",
       "      <td>2.175786</td>\n",
       "      <td>6.046041</td>\n",
       "      <td>4.935010</td>\n",
       "    </tr>\n",
       "    <tr>\n",
       "      <th>4</th>\n",
       "      <td>1</td>\n",
       "      <td>1.750297</td>\n",
       "      <td>-1.151816</td>\n",
       "      <td>0.280372</td>\n",
       "      <td>0.539340</td>\n",
       "      <td>1.371011</td>\n",
       "      <td>1.428493</td>\n",
       "      <td>-0.009560</td>\n",
       "      <td>-0.562450</td>\n",
       "      <td>1.270543</td>\n",
       "      <td>...</td>\n",
       "      <td>1.144205</td>\n",
       "      <td>-0.361092</td>\n",
       "      <td>0.499328</td>\n",
       "      <td>-1.466770</td>\n",
       "      <td>0.220556</td>\n",
       "      <td>-0.313395</td>\n",
       "      <td>0.613179</td>\n",
       "      <td>0.729259</td>\n",
       "      <td>-0.868353</td>\n",
       "      <td>-0.397100</td>\n",
       "    </tr>\n",
       "  </tbody>\n",
       "</table>\n",
       "<p>5 rows × 24 columns</p>\n",
       "</div>"
      ],
      "text/plain": [
       "   diagnosis  radius_mean  texture_mean  smoothness_mean  compactness_mean  \\\n",
       "0          1     1.097064     -2.073335         1.568466          3.283515   \n",
       "1          1     1.829821     -0.353632        -0.826962         -0.487072   \n",
       "2          1     1.579888      0.456187         0.942210          1.052926   \n",
       "3          1    -0.768909      0.253732         3.283553          3.402909   \n",
       "4          1     1.750297     -1.151816         0.280372          0.539340   \n",
       "\n",
       "   concavity_mean  concave_points_mean  symmetry_mean  fractal_dimension_mean  \\\n",
       "0        2.652874             2.532475       2.217515                2.255747   \n",
       "1       -0.023846             0.548144       0.001392               -0.868652   \n",
       "2        1.363478             2.037231       0.939685               -0.398008   \n",
       "3        1.915897             1.451707       2.867383                4.910919   \n",
       "4        1.371011             1.428493      -0.009560               -0.562450   \n",
       "\n",
       "   radius_se  ...  concave_points_se  symmetry_se  fractal_dimension_se  \\\n",
       "0   2.489734  ...           0.660820     1.148757              0.907083   \n",
       "1   0.499255  ...           0.260162    -0.805450             -0.099444   \n",
       "2   1.228676  ...           1.424827     0.237036              0.293559   \n",
       "3   0.326373  ...           1.115007     4.732680              2.047511   \n",
       "4   1.270543  ...           1.144205    -0.361092              0.499328   \n",
       "\n",
       "   texture_worst  smoothness_worst  compactness_worst  concavity_worst  \\\n",
       "0      -1.359293          1.307686           2.616665         2.109526   \n",
       "1      -0.369203         -0.375612          -0.430444        -0.146749   \n",
       "2      -0.023974          0.527407           1.082932         0.854974   \n",
       "3       0.133984          3.394275           3.893397         1.989588   \n",
       "4      -1.466770          0.220556          -0.313395         0.613179   \n",
       "\n",
       "   concave_points_worst  symmetry_worst  fractal_dimension_worst  \n",
       "0              2.296076        2.750622                 1.937015  \n",
       "1              1.087084       -0.243890                 0.281190  \n",
       "2              1.955000        1.152255                 0.201391  \n",
       "3              2.175786        6.046041                 4.935010  \n",
       "4              0.729259       -0.868353                -0.397100  \n",
       "\n",
       "[5 rows x 24 columns]"
      ]
     },
     "execution_count": 2,
     "metadata": {},
     "output_type": "execute_result"
    }
   ],
   "source": [
    "df=pd.read_csv('data_refined.csv')\n",
    "df.head(5)"
   ]
  },
  {
   "cell_type": "code",
   "execution_count": 3,
   "id": "e04a908f",
   "metadata": {},
   "outputs": [],
   "source": [
    "df[\"diagnosis\"] = LabelEncoder().fit_transform(df[\"diagnosis\"])\n",
    "y=df[\"diagnosis\"].values\n",
    "X_columns = len(df.columns)\n",
    "X=df.iloc[:,1:X_columns].values"
   ]
  },
  {
   "cell_type": "markdown",
   "id": "86a40e3c",
   "metadata": {},
   "source": [
    "# Splitting the Data\n",
    "Split your data as follows:\n",
    " 80% training set\n",
    "10% validation set\n",
    "10% test set"
   ]
  },
  {
   "cell_type": "code",
   "execution_count": 4,
   "id": "25436041",
   "metadata": {},
   "outputs": [],
   "source": [
    "X_train, X_test, y_train, y_test = train_test_split(X, y, test_size = 0.2, random_state = 0)\n",
    "X_validate, X_test, y_validate, y_test = train_test_split(X_test, y_test, test_size = 0.5, random_state = 0) "
   ]
  },
  {
   "cell_type": "code",
   "execution_count": 5,
   "id": "5fa21bb3",
   "metadata": {},
   "outputs": [
    {
     "data": {
      "text/plain": [
       "(455, 23)"
      ]
     },
     "execution_count": 5,
     "metadata": {},
     "output_type": "execute_result"
    }
   ],
   "source": [
    "np.shape(X_train)"
   ]
  },
  {
   "cell_type": "markdown",
   "id": "5bf6caf4",
   "metadata": {},
   "source": [
    "# Classification Using Artificial Neural Networks\n",
    "Use the Scikit-Learn Multi-Layer Perceptron (MLP) Classifier.\n",
    "\n",
    "Train your dataset.\n",
    "\n",
    "Get accuracy scores and confusion matrix.\n",
    "\n",
    "You need a minimum accuracy score of 94%.\n",
    "\n",
    "Build another neural network using Keras.\n",
    "\n",
    "Re-train your dataset.\n",
    "\n",
    "Get accuracy scores and confusion matrix.\n",
    "\n",
    "Compare results with the outputs of the classifiers in through project 2."
   ]
  },
  {
   "cell_type": "code",
   "execution_count": 6,
   "id": "7f368b88",
   "metadata": {},
   "outputs": [],
   "source": [
    "model = MLPRegressor(hidden_layer_sizes=(100, 100, 100,100,100,), activation='relu', solver='adam', batch_size=20, max_iter=1000, random_state=0)"
   ]
  },
  {
   "cell_type": "code",
   "execution_count": 7,
   "id": "4c06d75d",
   "metadata": {},
   "outputs": [
    {
     "data": {
      "text/plain": [
       "MLPRegressor(batch_size=20, hidden_layer_sizes=(100, 100, 100, 100, 100),\n",
       "             max_iter=1000, random_state=0)"
      ]
     },
     "execution_count": 7,
     "metadata": {},
     "output_type": "execute_result"
    }
   ],
   "source": [
    "model.fit(X_train, y_train)"
   ]
  },
  {
   "cell_type": "code",
   "execution_count": 8,
   "id": "b555f707",
   "metadata": {},
   "outputs": [],
   "source": [
    "y_pred = model.predict(X_test)\n",
    "y_pred = (y_pred > 0.5)"
   ]
  },
  {
   "cell_type": "code",
   "execution_count": 9,
   "id": "5c10e1e1",
   "metadata": {},
   "outputs": [
    {
     "data": {
      "text/plain": [
       "0.8464459448881233"
      ]
     },
     "execution_count": 9,
     "metadata": {},
     "output_type": "execute_result"
    }
   ],
   "source": [
    "score = model.score(X_test, y_test)\n",
    "score"
   ]
  },
  {
   "cell_type": "code",
   "execution_count": 10,
   "id": "d86afd74",
   "metadata": {},
   "outputs": [
    {
     "data": {
      "text/plain": [
       "array([[31,  1],\n",
       "       [ 1, 24]], dtype=int64)"
      ]
     },
     "execution_count": 10,
     "metadata": {},
     "output_type": "execute_result"
    }
   ],
   "source": [
    "confusionmatrix = confusion_matrix(y_test, y_pred)\n",
    "confusionmatrix"
   ]
  },
  {
   "cell_type": "code",
   "execution_count": 11,
   "id": "c18aa19f",
   "metadata": {},
   "outputs": [],
   "source": [
    "model2 = Sequential()\n",
    "\n",
    "model2.add(Dense(units=23, activation='relu', input_dim=23))\n",
    "model2.add(Dropout(0.2))\n",
    "model2.add(Dense(units=23, activation='relu'))\n",
    "#model2.add(Dense(units=23, activation='relu'))\n",
    "#model2.add(Dense(units=23, activation='relu'))\n",
    "#model2.add(Dense(units=23, activation='relu'))\n",
    "\n",
    "model2.add(Dense(units=1, activation='softmax'))"
   ]
  },
  {
   "cell_type": "code",
   "execution_count": 12,
   "id": "1f559249",
   "metadata": {},
   "outputs": [
    {
     "name": "stdout",
     "output_type": "stream",
     "text": [
      "Epoch 1/100\n",
      "23/23 [==============================] - 1s 3ms/step - loss: 0.6380 - accuracy: 0.3626\n",
      "Epoch 2/100\n",
      "23/23 [==============================] - 0s 3ms/step - loss: 0.4939 - accuracy: 0.3626\n",
      "Epoch 3/100\n",
      "23/23 [==============================] - 0s 3ms/step - loss: 0.3884 - accuracy: 0.3626\n",
      "Epoch 4/100\n",
      "23/23 [==============================] - 0s 3ms/step - loss: 0.3184 - accuracy: 0.3626\n",
      "Epoch 5/100\n",
      "23/23 [==============================] - 0s 3ms/step - loss: 0.2636 - accuracy: 0.3626\n",
      "Epoch 6/100\n",
      "23/23 [==============================] - 0s 3ms/step - loss: 0.2200 - accuracy: 0.3626\n",
      "Epoch 7/100\n",
      "23/23 [==============================] - 0s 3ms/step - loss: 0.1871 - accuracy: 0.3626\n",
      "Epoch 8/100\n",
      "23/23 [==============================] - 0s 3ms/step - loss: 0.1603 - accuracy: 0.3626\n",
      "Epoch 9/100\n",
      "23/23 [==============================] - 0s 3ms/step - loss: 0.1471 - accuracy: 0.3626\n",
      "Epoch 10/100\n",
      "23/23 [==============================] - 0s 3ms/step - loss: 0.1249 - accuracy: 0.3626\n",
      "Epoch 11/100\n",
      "23/23 [==============================] - 0s 3ms/step - loss: 0.1223 - accuracy: 0.3626\n",
      "Epoch 12/100\n",
      "23/23 [==============================] - 0s 6ms/step - loss: 0.1100 - accuracy: 0.3626\n",
      "Epoch 13/100\n",
      "23/23 [==============================] - 0s 5ms/step - loss: 0.1009 - accuracy: 0.3626\n",
      "Epoch 14/100\n",
      "23/23 [==============================] - 0s 5ms/step - loss: 0.1030 - accuracy: 0.3626\n",
      "Epoch 15/100\n",
      "23/23 [==============================] - 0s 5ms/step - loss: 0.0921 - accuracy: 0.3626\n",
      "Epoch 16/100\n",
      "23/23 [==============================] - 0s 6ms/step - loss: 0.0907 - accuracy: 0.3626\n",
      "Epoch 17/100\n",
      "23/23 [==============================] - 0s 6ms/step - loss: 0.0863 - accuracy: 0.3626\n",
      "Epoch 18/100\n",
      "23/23 [==============================] - 0s 6ms/step - loss: 0.0738 - accuracy: 0.3626\n",
      "Epoch 19/100\n",
      "23/23 [==============================] - 0s 6ms/step - loss: 0.0681 - accuracy: 0.3626\n",
      "Epoch 20/100\n",
      "23/23 [==============================] - 0s 5ms/step - loss: 0.0782 - accuracy: 0.3626\n",
      "Epoch 21/100\n",
      "23/23 [==============================] - 0s 5ms/step - loss: 0.0855 - accuracy: 0.3626\n",
      "Epoch 22/100\n",
      "23/23 [==============================] - 0s 5ms/step - loss: 0.0765 - accuracy: 0.3626\n",
      "Epoch 23/100\n",
      "23/23 [==============================] - 0s 6ms/step - loss: 0.0741 - accuracy: 0.3626\n",
      "Epoch 24/100\n",
      "23/23 [==============================] - 0s 6ms/step - loss: 0.0697 - accuracy: 0.3626\n",
      "Epoch 25/100\n",
      "23/23 [==============================] - 0s 6ms/step - loss: 0.0668 - accuracy: 0.3626\n",
      "Epoch 26/100\n",
      "23/23 [==============================] - 0s 6ms/step - loss: 0.0633 - accuracy: 0.3626\n",
      "Epoch 27/100\n",
      "23/23 [==============================] - 0s 6ms/step - loss: 0.0607 - accuracy: 0.3626\n",
      "Epoch 28/100\n",
      "23/23 [==============================] - 0s 6ms/step - loss: 0.0680 - accuracy: 0.3626\n",
      "Epoch 29/100\n",
      "23/23 [==============================] - 0s 5ms/step - loss: 0.0637 - accuracy: 0.3626\n",
      "Epoch 30/100\n",
      "23/23 [==============================] - 0s 5ms/step - loss: 0.0532 - accuracy: 0.3626\n",
      "Epoch 31/100\n",
      "23/23 [==============================] - 0s 5ms/step - loss: 0.0443 - accuracy: 0.3626\n",
      "Epoch 32/100\n",
      "23/23 [==============================] - 0s 5ms/step - loss: 0.0596 - accuracy: 0.3626\n",
      "Epoch 33/100\n",
      "23/23 [==============================] - 0s 5ms/step - loss: 0.0553 - accuracy: 0.3626\n",
      "Epoch 34/100\n",
      "23/23 [==============================] - 0s 6ms/step - loss: 0.0655 - accuracy: 0.3626\n",
      "Epoch 35/100\n",
      "23/23 [==============================] - 0s 5ms/step - loss: 0.0571 - accuracy: 0.3626\n",
      "Epoch 36/100\n",
      "23/23 [==============================] - 0s 4ms/step - loss: 0.0529 - accuracy: 0.3626\n",
      "Epoch 37/100\n",
      "23/23 [==============================] - 0s 5ms/step - loss: 0.0559 - accuracy: 0.3626\n",
      "Epoch 38/100\n",
      "23/23 [==============================] - 0s 5ms/step - loss: 0.0593 - accuracy: 0.3626\n",
      "Epoch 39/100\n",
      "23/23 [==============================] - 0s 5ms/step - loss: 0.0491 - accuracy: 0.3626\n",
      "Epoch 40/100\n",
      "23/23 [==============================] - 0s 7ms/step - loss: 0.0482 - accuracy: 0.3626\n",
      "Epoch 41/100\n",
      "23/23 [==============================] - 0s 6ms/step - loss: 0.0495 - accuracy: 0.3626\n",
      "Epoch 42/100\n",
      "23/23 [==============================] - 0s 4ms/step - loss: 0.0569 - accuracy: 0.3626\n",
      "Epoch 43/100\n",
      "23/23 [==============================] - 0s 4ms/step - loss: 0.0607 - accuracy: 0.3626\n",
      "Epoch 44/100\n",
      "23/23 [==============================] - 0s 4ms/step - loss: 0.0376 - accuracy: 0.3626\n",
      "Epoch 45/100\n",
      "23/23 [==============================] - 0s 3ms/step - loss: 0.0482 - accuracy: 0.3626\n",
      "Epoch 46/100\n",
      "23/23 [==============================] - 0s 2ms/step - loss: 0.0448 - accuracy: 0.3626\n",
      "Epoch 47/100\n",
      "23/23 [==============================] - 0s 5ms/step - loss: 0.0454 - accuracy: 0.3626\n",
      "Epoch 48/100\n",
      "23/23 [==============================] - 0s 5ms/step - loss: 0.0371 - accuracy: 0.3626\n",
      "Epoch 49/100\n",
      "23/23 [==============================] - 0s 4ms/step - loss: 0.0454 - accuracy: 0.3626\n",
      "Epoch 50/100\n",
      "23/23 [==============================] - 0s 5ms/step - loss: 0.0538 - accuracy: 0.3626\n",
      "Epoch 51/100\n",
      "23/23 [==============================] - 0s 4ms/step - loss: 0.0387 - accuracy: 0.3626\n",
      "Epoch 52/100\n",
      "23/23 [==============================] - 0s 5ms/step - loss: 0.0361 - accuracy: 0.3626\n",
      "Epoch 53/100\n",
      "23/23 [==============================] - 0s 5ms/step - loss: 0.0428 - accuracy: 0.3626\n",
      "Epoch 54/100\n",
      "23/23 [==============================] - 0s 4ms/step - loss: 0.0429 - accuracy: 0.3626\n",
      "Epoch 55/100\n",
      "23/23 [==============================] - 0s 4ms/step - loss: 0.0396 - accuracy: 0.3626\n",
      "Epoch 56/100\n",
      "23/23 [==============================] - 0s 4ms/step - loss: 0.0349 - accuracy: 0.3626\n",
      "Epoch 57/100\n",
      "23/23 [==============================] - 0s 4ms/step - loss: 0.0312 - accuracy: 0.3626\n",
      "Epoch 58/100\n",
      "23/23 [==============================] - 0s 4ms/step - loss: 0.0382 - accuracy: 0.3626\n",
      "Epoch 59/100\n",
      "23/23 [==============================] - 0s 4ms/step - loss: 0.0361 - accuracy: 0.3626\n",
      "Epoch 60/100\n",
      "23/23 [==============================] - 0s 4ms/step - loss: 0.0348 - accuracy: 0.3626\n",
      "Epoch 61/100\n",
      "23/23 [==============================] - 0s 4ms/step - loss: 0.0449 - accuracy: 0.3626\n",
      "Epoch 62/100\n",
      "23/23 [==============================] - 0s 4ms/step - loss: 0.0337 - accuracy: 0.3626\n",
      "Epoch 63/100\n",
      "23/23 [==============================] - 0s 3ms/step - loss: 0.0319 - accuracy: 0.3626\n",
      "Epoch 64/100\n",
      "23/23 [==============================] - 0s 3ms/step - loss: 0.0395 - accuracy: 0.3626\n",
      "Epoch 65/100\n",
      "23/23 [==============================] - 0s 3ms/step - loss: 0.0367 - accuracy: 0.3626\n",
      "Epoch 66/100\n",
      "23/23 [==============================] - 0s 3ms/step - loss: 0.0318 - accuracy: 0.3626\n",
      "Epoch 67/100\n",
      "23/23 [==============================] - 0s 3ms/step - loss: 0.0281 - accuracy: 0.3626\n",
      "Epoch 68/100\n",
      "23/23 [==============================] - 0s 3ms/step - loss: 0.0249 - accuracy: 0.3626\n",
      "Epoch 69/100\n",
      "23/23 [==============================] - 0s 4ms/step - loss: 0.0323 - accuracy: 0.3626\n",
      "Epoch 70/100\n",
      "23/23 [==============================] - 0s 4ms/step - loss: 0.0249 - accuracy: 0.3626\n",
      "Epoch 71/100\n",
      "23/23 [==============================] - 0s 4ms/step - loss: 0.0290 - accuracy: 0.3626\n",
      "Epoch 72/100\n",
      "23/23 [==============================] - 0s 4ms/step - loss: 0.0271 - accuracy: 0.3626\n",
      "Epoch 73/100\n",
      "23/23 [==============================] - 0s 4ms/step - loss: 0.0332 - accuracy: 0.3626\n",
      "Epoch 74/100\n",
      "23/23 [==============================] - 0s 4ms/step - loss: 0.0299 - accuracy: 0.3626\n",
      "Epoch 75/100\n",
      "23/23 [==============================] - 0s 5ms/step - loss: 0.0191 - accuracy: 0.3626\n",
      "Epoch 76/100\n",
      "23/23 [==============================] - 0s 4ms/step - loss: 0.0308 - accuracy: 0.3626\n",
      "Epoch 77/100\n",
      "23/23 [==============================] - 0s 5ms/step - loss: 0.0268 - accuracy: 0.3626\n",
      "Epoch 78/100\n",
      "23/23 [==============================] - 0s 4ms/step - loss: 0.0414 - accuracy: 0.3626\n",
      "Epoch 79/100\n",
      "23/23 [==============================] - 0s 3ms/step - loss: 0.0237 - accuracy: 0.3626\n",
      "Epoch 80/100\n",
      "23/23 [==============================] - 0s 3ms/step - loss: 0.0247 - accuracy: 0.3626\n",
      "Epoch 81/100\n",
      "23/23 [==============================] - 0s 3ms/step - loss: 0.0218 - accuracy: 0.3626\n",
      "Epoch 82/100\n",
      "23/23 [==============================] - 0s 4ms/step - loss: 0.0272 - accuracy: 0.3626\n",
      "Epoch 83/100\n"
     ]
    },
    {
     "name": "stdout",
     "output_type": "stream",
     "text": [
      "23/23 [==============================] - 0s 4ms/step - loss: 0.0200 - accuracy: 0.3626\n",
      "Epoch 84/100\n",
      "23/23 [==============================] - 0s 3ms/step - loss: 0.0215 - accuracy: 0.3626\n",
      "Epoch 85/100\n",
      "23/23 [==============================] - 0s 3ms/step - loss: 0.0194 - accuracy: 0.3626\n",
      "Epoch 86/100\n",
      "23/23 [==============================] - 0s 4ms/step - loss: 0.0224 - accuracy: 0.3626\n",
      "Epoch 87/100\n",
      "23/23 [==============================] - 0s 4ms/step - loss: 0.0217 - accuracy: 0.3626\n",
      "Epoch 88/100\n",
      "23/23 [==============================] - 0s 4ms/step - loss: 0.0226 - accuracy: 0.3626\n",
      "Epoch 89/100\n",
      "23/23 [==============================] - 0s 3ms/step - loss: 0.0236 - accuracy: 0.3626\n",
      "Epoch 90/100\n",
      "23/23 [==============================] - 0s 4ms/step - loss: 0.0247 - accuracy: 0.3626\n",
      "Epoch 91/100\n",
      "23/23 [==============================] - 0s 4ms/step - loss: 0.0239 - accuracy: 0.3626\n",
      "Epoch 92/100\n",
      "23/23 [==============================] - 0s 4ms/step - loss: 0.0179 - accuracy: 0.3626\n",
      "Epoch 93/100\n",
      "23/23 [==============================] - 0s 4ms/step - loss: 0.0241 - accuracy: 0.3626\n",
      "Epoch 94/100\n",
      "23/23 [==============================] - 0s 3ms/step - loss: 0.0265 - accuracy: 0.3626\n",
      "Epoch 95/100\n",
      "23/23 [==============================] - 0s 3ms/step - loss: 0.0198 - accuracy: 0.3626\n",
      "Epoch 96/100\n",
      "23/23 [==============================] - 0s 4ms/step - loss: 0.0232 - accuracy: 0.3626\n",
      "Epoch 97/100\n",
      "23/23 [==============================] - 0s 4ms/step - loss: 0.0120 - accuracy: 0.3626\n",
      "Epoch 98/100\n",
      "23/23 [==============================] - 0s 3ms/step - loss: 0.0173 - accuracy: 0.3626\n",
      "Epoch 99/100\n",
      "23/23 [==============================] - 0s 3ms/step - loss: 0.0179 - accuracy: 0.3626\n",
      "Epoch 100/100\n",
      "23/23 [==============================] - 0s 4ms/step - loss: 0.0176 - accuracy: 0.3626\n"
     ]
    },
    {
     "data": {
      "text/plain": [
       "<keras.callbacks.History at 0x155acfae650>"
      ]
     },
     "execution_count": 12,
     "metadata": {},
     "output_type": "execute_result"
    }
   ],
   "source": [
    "model2.compile(optimizer = 'adam', loss = 'binary_crossentropy', metrics = ['accuracy'])\n",
    "model2.fit(X_train, y_train, batch_size = 20, epochs = 100)"
   ]
  },
  {
   "cell_type": "code",
   "execution_count": 13,
   "id": "4e207bf1",
   "metadata": {},
   "outputs": [],
   "source": [
    "y_pred = model2.predict(X_test)"
   ]
  },
  {
   "cell_type": "code",
   "execution_count": 14,
   "id": "71003360",
   "metadata": {},
   "outputs": [],
   "source": [
    "y_pred = (y_pred > 0.5)\n",
    "confusionmatrix = confusion_matrix(y_test, y_pred)"
   ]
  },
  {
   "cell_type": "code",
   "execution_count": 15,
   "id": "9861420f",
   "metadata": {},
   "outputs": [
    {
     "data": {
      "text/plain": [
       "array([[ 0, 32],\n",
       "       [ 0, 25]], dtype=int64)"
      ]
     },
     "execution_count": 15,
     "metadata": {},
     "output_type": "execute_result"
    }
   ],
   "source": [
    "confusionmatrix\n",
    "# not sure why always the same response"
   ]
  },
  {
   "cell_type": "markdown",
   "id": "6dbb1fd0",
   "metadata": {},
   "source": [
    "# Reading the Dataset\n",
    "Load the previously pre-processed Insurance dataset."
   ]
  },
  {
   "cell_type": "code",
   "execution_count": 16,
   "id": "c25fd03a",
   "metadata": {},
   "outputs": [],
   "source": [
    "df=pd.read_csv('insurance.csv')\n",
    "df.dropna()\n",
    "\n",
    "y=df[\"charges\"].values\n",
    "numerical = df[[\"age\",\"bmi\",\"children\"]]\n",
    "categorical = df[[\"sex\",\"smoker\"]]\n",
    "categorical = pd.get_dummies(categorical)\n",
    "features = pd.concat([numerical, categorical], axis = 1)\n",
    "\n",
    "scaler = StandardScaler() \n",
    "numerical=scaler.fit_transform(numerical) \n",
    "X=np.concatenate((numerical, categorical.iloc[:,1:3].values), axis=1)\n",
    "\n",
    "df = df.rename(columns={'sex': 'sex_female', 'smoker': 'smoker_yes'})\n",
    "df[\"sex_female\"]= categorical.iloc[:,0:1].values\n",
    "df[\"smoker_yes\"]= categorical.iloc[:,3:4].values\n",
    "\n"
   ]
  },
  {
   "cell_type": "markdown",
   "id": "365e3a52",
   "metadata": {},
   "source": [
    "# Splitting the Data\n",
    "Split your data as follows:\n",
    "80% training set\n",
    "10% validation set\n",
    "10% test set"
   ]
  },
  {
   "cell_type": "code",
   "execution_count": 17,
   "id": "72c1dd3e",
   "metadata": {},
   "outputs": [],
   "source": [
    "from sklearn.model_selection import train_test_split \n",
    "X_train, X_test, y_train, y_test = train_test_split(X, y, test_size = 0.2, random_state = 0)\n",
    "X_validate, X_test, y_validate, y_test = train_test_split(X_test, y_test, test_size = 0.5, random_state = 0) "
   ]
  },
  {
   "cell_type": "markdown",
   "id": "b2cc6478",
   "metadata": {},
   "source": [
    "# Regression Using Artificial Neural Networks:\n",
    "Use the Scikit-Learn Multi-Layer Perceptron (MLP) Regression.\n",
    "\n",
    "Fit your dataset.\n",
    "\n",
    "Get r2 score.\n",
    "\n",
    "You need a minimum r2 score of 82%.\n",
    "\n",
    "Build another neural network using Keras.\n",
    "\n",
    "Re-train your dataset.\n",
    "\n",
    "Get r2 score.\n",
    "\n",
    "Compare results with the outputs of the regressors in through project 3."
   ]
  },
  {
   "cell_type": "code",
   "execution_count": 18,
   "id": "355393b3",
   "metadata": {},
   "outputs": [],
   "source": [
    "insurance_model = MLPRegressor(hidden_layer_sizes=(100, 100, 100,100,100,), activation='relu', solver='adam', batch_size=20, max_iter=1000, random_state=0)"
   ]
  },
  {
   "cell_type": "code",
   "execution_count": 19,
   "id": "9450299f",
   "metadata": {},
   "outputs": [
    {
     "data": {
      "text/plain": [
       "MLPRegressor(batch_size=20, hidden_layer_sizes=(100, 100, 100, 100, 100),\n",
       "             max_iter=1000, random_state=0)"
      ]
     },
     "execution_count": 19,
     "metadata": {},
     "output_type": "execute_result"
    }
   ],
   "source": [
    "insurance_model.fit(X_train, y_train)"
   ]
  },
  {
   "cell_type": "code",
   "execution_count": 20,
   "id": "76fafd7a",
   "metadata": {},
   "outputs": [],
   "source": [
    "y_pred = insurance_model.predict(X_test)\n",
    "#y_pred = (y_pred > 0.5)"
   ]
  },
  {
   "cell_type": "code",
   "execution_count": 21,
   "id": "2b71273f",
   "metadata": {},
   "outputs": [
    {
     "data": {
      "text/plain": [
       "0.8406138672900834"
      ]
     },
     "execution_count": 21,
     "metadata": {},
     "output_type": "execute_result"
    }
   ],
   "source": [
    "score = insurance_model.score(X_test, y_test)\n",
    "score"
   ]
  },
  {
   "cell_type": "code",
   "execution_count": 22,
   "id": "9b3db964",
   "metadata": {},
   "outputs": [
    {
     "name": "stdout",
     "output_type": "stream",
     "text": [
      "R2 squared score: 84.06138672900833\n"
     ]
    }
   ],
   "source": [
    "print('R2 squared score: ' + str(r2_score(y_test,y_pred)*100))"
   ]
  },
  {
   "cell_type": "markdown",
   "id": "cb2b8793",
   "metadata": {},
   "source": [
    "# Submit to GitHub"
   ]
  }
 ],
 "metadata": {
  "kernelspec": {
   "display_name": "Python 3 (ipykernel)",
   "language": "python",
   "name": "python3"
  },
  "language_info": {
   "codemirror_mode": {
    "name": "ipython",
    "version": 3
   },
   "file_extension": ".py",
   "mimetype": "text/x-python",
   "name": "python",
   "nbconvert_exporter": "python",
   "pygments_lexer": "ipython3",
   "version": "3.10.0"
  }
 },
 "nbformat": 4,
 "nbformat_minor": 5
}
